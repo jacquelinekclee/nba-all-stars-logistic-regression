{
 "cells": [
  {
   "cell_type": "markdown",
   "id": "c6a40040-28f4-4d8f-b0aa-982b08b4517b",
   "metadata": {},
   "source": [
    "# NBA All Stars Classifier\n",
    "\n",
    "For a full description on this project, please see the [Project website](https://jacquelinekclee.github.io/nba-all-stars-classifier.github.io/) and the [GitHub repository](https://github.com/jacquelinekclee/nba-all-stars-classifier.github.io)."
   ]
  },
  {
   "cell_type": "markdown",
   "id": "a4b94bd6-6611-4f2a-8aaa-0db6c8084f34",
   "metadata": {},
   "source": [
    "# Imports"
   ]
  },
  {
   "cell_type": "code",
   "execution_count": 9,
   "id": "e328889f-931e-4e90-b88d-a5690a4cc202",
   "metadata": {},
   "outputs": [
    {
     "name": "stdout",
     "output_type": "stream",
     "text": [
      "The autoreload extension is already loaded. To reload it, use:\n",
      "  %reload_ext autoreload\n"
     ]
    }
   ],
   "source": [
    "import pandas as pd\n",
    "import numpy as np\n",
    "%load_ext autoreload\n",
    "%autoreload 2\n",
    "# source files can be found in the GitHub repository\n",
    "from nba_players_classification import *"
   ]
  },
  {
   "cell_type": "code",
   "execution_count": 10,
   "id": "d40d376c-5efe-4cb3-867c-aa26ca884072",
   "metadata": {},
   "outputs": [],
   "source": [
    "import sklearn\n",
    "import xgboost as xgb\n",
    "from sklearn import metrics\n",
    "from sklearn.model_selection import GridSearchCV, KFold\n",
    "from sklearn.ensemble import RandomForestClassifier\n",
    "from sklearn.model_selection import RandomizedSearchCV\n",
    "from sklearn.pipeline import Pipeline\n",
    "from sklearn.preprocessing import LabelEncoder\n",
    "from sklearn.preprocessing import OneHotEncoder\n",
    "from sklearn.compose import ColumnTransformer\n",
    "from sklearn.model_selection import train_test_split\n",
    "import matplotlib.pyplot as plt\n",
    "from sklearn.model_selection import learning_curve\n",
    "from sklearn.metrics import log_loss\n",
    "from sklearn.metrics import accuracy_score\n",
    "from sklearn.neighbors import KNeighborsClassifier\n",
    "from sklearn.preprocessing import MinMaxScaler\n",
    "from sklearn.linear_model import LogisticRegression\n",
    "from sklearn.preprocessing import minmax_scale"
   ]
  },
  {
   "cell_type": "markdown",
   "id": "e1271f0d-111b-469a-ac8a-5cc27b4f57bc",
   "metadata": {},
   "source": [
    "# Read In Data\n",
    "\n",
    "See GitHub repository for links to data sources and for notebook with data cleaning."
   ]
  },
  {
   "cell_type": "code",
   "execution_count": 122,
   "id": "3a951238-ad26-4bc1-b817-e8f88c841b61",
   "metadata": {},
   "outputs": [],
   "source": [
    "stats = pd.read_csv('players_1980_2017.csv')\n",
    "test_players = pd.read_csv('players_1819_cleaned.csv')\n",
    "test_2021 = pd.read_csv('players_2021_cleaned.csv')\n",
    "test_2022 = pd.read_csv('players_2022_cleaned.csv')"
   ]
  },
  {
   "cell_type": "code",
   "execution_count": 123,
   "id": "657c3c4e-2672-4864-8003-a85f24395aaa",
   "metadata": {},
   "outputs": [],
   "source": [
    "test_2023 = pd.read_csv('players_2023_cleaned.csv')"
   ]
  },
  {
   "cell_type": "code",
   "execution_count": 117,
   "id": "2cdf9e1f-0581-4df9-a3f9-59f1540ab569",
   "metadata": {},
   "outputs": [
    {
     "data": {
      "text/plain": [
       "0.05"
      ]
     },
     "execution_count": 117,
     "metadata": {},
     "output_type": "execute_result"
    }
   ],
   "source": [
    "round(test_players['All Star'].sum() / test_players.shape[0], 2)"
   ]
  },
  {
   "cell_type": "code",
   "execution_count": 118,
   "id": "96e16134-bde3-4105-9c83-5191ebbdf177",
   "metadata": {},
   "outputs": [
    {
     "data": {
      "text/plain": [
       "0.05"
      ]
     },
     "execution_count": 118,
     "metadata": {},
     "output_type": "execute_result"
    }
   ],
   "source": [
    "round(test_2021['All Star'].sum() / test_2021.shape[0], 2)"
   ]
  },
  {
   "cell_type": "code",
   "execution_count": 119,
   "id": "fa1b21a7-c35e-4f4c-a0ea-6e2a8cf7abe8",
   "metadata": {},
   "outputs": [
    {
     "data": {
      "text/plain": [
       "0.04"
      ]
     },
     "execution_count": 119,
     "metadata": {},
     "output_type": "execute_result"
    }
   ],
   "source": [
    "round(test_2022['All Star'].sum() / test_2022.shape[0], 2)"
   ]
  },
  {
   "cell_type": "code",
   "execution_count": 120,
   "id": "37b3c1f7-9cac-42a0-83e6-c220c2e21214",
   "metadata": {},
   "outputs": [
    {
     "data": {
      "text/plain": [
       "(22.93468988235943, 22.15851980616034, 24.596747752497688)"
      ]
     },
     "execution_count": 120,
     "metadata": {},
     "output_type": "execute_result"
    }
   ],
   "source": [
    "test_players.shape[0] ** 0.5, test_2021.shape[0] ** 0.5, test_2022.shape[0] ** 0.5"
   ]
  },
  {
   "cell_type": "markdown",
   "id": "fbc639b2-e589-4b8b-9c58-0a10b0b19043",
   "metadata": {},
   "source": [
    "# All Star Classifier<a class=\"anchor\" id=\"allstars\"></a>"
   ]
  },
  {
   "cell_type": "markdown",
   "id": "f15ae32b-b8c4-4005-955e-fd7f38b4295f",
   "metadata": {},
   "source": [
    "## Logistic Regression"
   ]
  },
  {
   "cell_type": "code",
   "execution_count": 124,
   "id": "bfd76099-491b-4d2a-a04a-3557c30b1dd3",
   "metadata": {},
   "outputs": [],
   "source": [
    "scalar = MinMaxScaler()\n",
    "\n",
    "X_train_as = stats[['Year', 'Pos', 'TS%', 'RPG', 'APG', 'PPG', 'BPG', 'SPG']]\n",
    "y_train_as = stats['All Star'].astype(int)\n",
    "\n",
    "num_feat = ['Year','TS%', 'RPG', 'APG', 'PPG', 'BPG', 'SPG']\n",
    "pl1 = Pipeline([\n",
    "    ('min_max', scalar)\n",
    "])\n",
    "\n",
    "pl2 = Pipeline([\n",
    "    ('pos', OneHotEncoder())\n",
    "])\n",
    "# preprocessing pipeline (put them together)\n",
    "preproc = ColumnTransformer(\n",
    "    transformers=[\n",
    "        ('scaling', pl1, num_feat),\n",
    "        ('step_name', pl2, ['Pos'])\n",
    "    ])\n",
    "\n",
    "\n",
    "pipeline = Pipeline([('preprocessor', preproc), ('regr', LogisticRegression())])\n",
    "\n",
    "logregr_grid_params = {\"regr__C\":np.logspace(-3,3,7), \"regr__penalty\":[\"l1\",\"l2\"]}\n",
    "logregr_gs_og = GridSearchCV(pipeline, logregr_grid_params, verbose = 1, cv=3, n_jobs = -1, scoring = 'recall')"
   ]
  },
  {
   "cell_type": "code",
   "execution_count": 125,
   "id": "a679454c-c910-4b53-9bba-ed53bdde277d",
   "metadata": {},
   "outputs": [
    {
     "name": "stdout",
     "output_type": "stream",
     "text": [
      "Fitting 3 folds for each of 14 candidates, totalling 42 fits\n"
     ]
    },
    {
     "name": "stderr",
     "output_type": "stream",
     "text": [
      "/opt/anaconda3/lib/python3.8/site-packages/sklearn/model_selection/_search.py:918: UserWarning: One or more of the test scores are non-finite: [       nan 0.                nan 0.                nan 0.27019624\n",
      "        nan 0.49938048        nan 0.55747773        nan 0.56909785\n",
      "        nan 0.56909785]\n",
      "  warnings.warn(\n",
      "/opt/anaconda3/lib/python3.8/site-packages/sklearn/linear_model/_logistic.py:763: ConvergenceWarning: lbfgs failed to converge (status=1):\n",
      "STOP: TOTAL NO. of ITERATIONS REACHED LIMIT.\n",
      "\n",
      "Increase the number of iterations (max_iter) or scale the data as shown in:\n",
      "    https://scikit-learn.org/stable/modules/preprocessing.html\n",
      "Please also refer to the documentation for alternative solver options:\n",
      "    https://scikit-learn.org/stable/modules/linear_model.html#logistic-regression\n",
      "  n_iter_i = _check_optimize_result(\n"
     ]
    },
    {
     "data": {
      "text/plain": [
       "GridSearchCV(cv=3,\n",
       "             estimator=Pipeline(steps=[('preprocessor',\n",
       "                                        ColumnTransformer(transformers=[('scaling',\n",
       "                                                                         Pipeline(steps=[('min_max',\n",
       "                                                                                          MinMaxScaler())]),\n",
       "                                                                         ['Year',\n",
       "                                                                          'TS%',\n",
       "                                                                          'RPG',\n",
       "                                                                          'APG',\n",
       "                                                                          'PPG',\n",
       "                                                                          'BPG',\n",
       "                                                                          'SPG']),\n",
       "                                                                        ('step_name',\n",
       "                                                                         Pipeline(steps=[('pos',\n",
       "                                                                                          OneHotEncoder())]),\n",
       "                                                                         ['Pos'])])),\n",
       "                                       ('regr', LogisticRegression())]),\n",
       "             n_jobs=-1,\n",
       "             param_grid={'regr__C': array([1.e-03, 1.e-02, 1.e-01, 1.e+00, 1.e+01, 1.e+02, 1.e+03]),\n",
       "                         'regr__penalty': ['l1', 'l2']},\n",
       "             scoring='recall', verbose=1)"
      ]
     },
     "execution_count": 125,
     "metadata": {},
     "output_type": "execute_result"
    }
   ],
   "source": [
    "logregr_gs_og.fit(X_train_as, y_train_as)"
   ]
  },
  {
   "cell_type": "markdown",
   "id": "5bdf96a8-6a70-490d-bbff-e84ec914d5e5",
   "metadata": {},
   "source": [
    "## Test on 2018-2019 Data"
   ]
  },
  {
   "cell_type": "markdown",
   "id": "f478ddec-ab29-4779-ba1d-2c2f4915c5e5",
   "metadata": {},
   "source": [
    "### Logistic Regression"
   ]
  },
  {
   "cell_type": "code",
   "execution_count": 201,
   "id": "93661ef2-5688-4187-8386-f512947a5873",
   "metadata": {},
   "outputs": [
    {
     "data": {
      "text/plain": [
       "0.7692307692307693"
      ]
     },
     "execution_count": 201,
     "metadata": {},
     "output_type": "execute_result"
    }
   ],
   "source": [
    "test_as_pred_log = logregr_gs_og.predict(X_test_as)\n",
    "metrics.recall_score(y_test_as, test_as_pred_log)"
   ]
  },
  {
   "cell_type": "code",
   "execution_count": 202,
   "id": "82368388-bd20-44ca-aaea-f16649d552b7",
   "metadata": {},
   "outputs": [],
   "source": [
    "logregr_as_results = X_test_as.copy()"
   ]
  },
  {
   "cell_type": "code",
   "execution_count": 203,
   "id": "f244c258-b28e-430d-8e65-ec0d43bd3a8b",
   "metadata": {},
   "outputs": [],
   "source": [
    "logregr_as_results['prediction'] = test_as_pred_log\n",
    "logregr_as_results['All Star'] = y_test_as"
   ]
  },
  {
   "cell_type": "code",
   "execution_count": 214,
   "id": "39cfeefd-f6d6-4c11-b19e-31e088fca4dc",
   "metadata": {},
   "outputs": [],
   "source": [
    "num_all_stars_2019 = test_players.loc[test_players['All Star']].shape[0]"
   ]
  },
  {
   "cell_type": "markdown",
   "id": "22c3678b-b8d1-4731-a524-6ca286ff522b",
   "metadata": {},
   "source": [
    "### Probabilities"
   ]
  },
  {
   "cell_type": "code",
   "execution_count": 210,
   "id": "d862036d-b99d-482b-b73c-cbb97e5a112b",
   "metadata": {},
   "outputs": [],
   "source": [
    "logregr_as_results['probability'] = logregr_gs_og.predict_proba(X_test_as)[:,1]"
   ]
  },
  {
   "cell_type": "markdown",
   "id": "604c5eba-1668-42e8-84e3-b2cc62642bc7",
   "metadata": {},
   "source": [
    "### Top 26 Players Most Likely to be an All Star"
   ]
  },
  {
   "cell_type": "code",
   "execution_count": 273,
   "id": "50cca661-f45a-4bcd-9524-1607f18d628a",
   "metadata": {},
   "outputs": [],
   "source": [
    "def find_most_likely(results, test_df):\n",
    "    num_all_stars = test_df.loc[test_df['All Star']].shape[0]\n",
    "    most_likely_names = test_df.loc[results.sort_values('probability', ascending=False).head(num_all_stars).index].Player.to_list()\n",
    "    all_stars = test_df.loc[test_df['All Star']].Player.to_list()\n",
    "    percent_right = round(1 - (len(set(most_likely_names) - set(all_stars)) / len(all_stars)), 3)\n",
    "    underrated_players = [','.join(list(set(most_likely_names) - set(all_stars)))]\n",
    "    overrated_players = [','.join(list(set(all_stars) - set(most_likely_names)))]\n",
    "    results = pd.DataFrame(data = {'Percent Right': percent_right, 'Underrated Players':underrated_players, 'Overrated Players':overrated_players})\n",
    "    results.index = test_df.Year[:results.shape[0]]\n",
    "    return most_likely_names, results"
   ]
  },
  {
   "cell_type": "code",
   "execution_count": 265,
   "id": "594cd23c-afce-43f5-a5a5-940a38f5cd50",
   "metadata": {},
   "outputs": [],
   "source": [
    "pd.set_option('display.max_colwidth', None)"
   ]
  },
  {
   "cell_type": "code",
   "execution_count": 274,
   "id": "dd897b44-54fc-44b6-8c3b-73a509f2707e",
   "metadata": {},
   "outputs": [],
   "source": [
    "most_likely_names, results_df = find_most_likely(logregr_as_results, test_players)"
   ]
  },
  {
   "cell_type": "code",
   "execution_count": 275,
   "id": "5b25b028-e0e3-40ca-8108-b0dea3fb4145",
   "metadata": {},
   "outputs": [
    {
     "data": {
      "text/html": [
       "<div>\n",
       "<style scoped>\n",
       "    .dataframe tbody tr th:only-of-type {\n",
       "        vertical-align: middle;\n",
       "    }\n",
       "\n",
       "    .dataframe tbody tr th {\n",
       "        vertical-align: top;\n",
       "    }\n",
       "\n",
       "    .dataframe thead th {\n",
       "        text-align: right;\n",
       "    }\n",
       "</style>\n",
       "<table border=\"1\" class=\"dataframe\">\n",
       "  <thead>\n",
       "    <tr style=\"text-align: right;\">\n",
       "      <th></th>\n",
       "      <th>Percent Right</th>\n",
       "      <th>Underrated Players</th>\n",
       "      <th>Overrated Players</th>\n",
       "    </tr>\n",
       "    <tr>\n",
       "      <th>Year</th>\n",
       "      <th></th>\n",
       "      <th></th>\n",
       "      <th></th>\n",
       "    </tr>\n",
       "  </thead>\n",
       "  <tbody>\n",
       "    <tr>\n",
       "      <th>2019</th>\n",
       "      <td>0.731</td>\n",
       "      <td>Jrue Holiday,Jonas Valančiūnas,Andre Drummond,Devin Booker,Rudy Gobert,John Wall,Luka Dončić</td>\n",
       "      <td>Khris Middleton,LaMarcus Aldridge,Kyle Lowry,Victor Oladipo,Dwyane Wade,Dirk Nowitzki,Klay Thompson</td>\n",
       "    </tr>\n",
       "  </tbody>\n",
       "</table>\n",
       "</div>"
      ],
      "text/plain": [
       "      Percent Right  \\\n",
       "Year                  \n",
       "2019          0.731   \n",
       "\n",
       "                                                                                Underrated Players  \\\n",
       "Year                                                                                                 \n",
       "2019  Jrue Holiday,Jonas Valančiūnas,Andre Drummond,Devin Booker,Rudy Gobert,John Wall,Luka Dončić   \n",
       "\n",
       "                                                                                        Overrated Players  \n",
       "Year                                                                                                       \n",
       "2019  Khris Middleton,LaMarcus Aldridge,Kyle Lowry,Victor Oladipo,Dwyane Wade,Dirk Nowitzki,Klay Thompson  "
      ]
     },
     "execution_count": 275,
     "metadata": {},
     "output_type": "execute_result"
    }
   ],
   "source": [
    "results_df"
   ]
  },
  {
   "cell_type": "markdown",
   "id": "b0cf6013-2829-486c-89bc-42354de1cef5",
   "metadata": {},
   "source": [
    "### Correctly Predicted All Stars "
   ]
  },
  {
   "cell_type": "code",
   "execution_count": 23,
   "id": "2d927daa-906b-4029-beb2-1f00a6c9b4c0",
   "metadata": {},
   "outputs": [
    {
     "data": {
      "text/plain": [
       "7          LaMarcus Aldridge\n",
       "17     Giannis Antetokounmpo\n",
       "39              Bradley Beal\n",
       "123            Stephen Curry\n",
       "125            Anthony Davis\n",
       "149             Kevin Durant\n",
       "154              Joel Embiid\n",
       "183              Paul George\n",
       "202            Blake Griffin\n",
       "206             James Harden\n",
       "248             Kyrie Irving\n",
       "257             LeBron James\n",
       "268             Nikola Jokić\n",
       "298            Kawhi Leonard\n",
       "302           Damian Lillard\n",
       "446              Ben Simmons\n",
       "477       Karl-Anthony Towns\n",
       "488           Nikola Vučević\n",
       "492             Kemba Walker\n",
       "501        Russell Westbrook\n",
       "Name: Player, dtype: object"
      ]
     },
     "execution_count": 23,
     "metadata": {},
     "output_type": "execute_result"
    }
   ],
   "source": [
    "correct_as_2019_logreg = test_players.loc[logregr_as_results.loc[(logregr_as_results.prediction==1) & (logregr_as_results['All Star'])].index].Player\n",
    "correct_as_2019_logreg"
   ]
  },
  {
   "cell_type": "markdown",
   "id": "4a824614-b43e-47d7-96f1-c319bcb4d962",
   "metadata": {},
   "source": [
    "### All Stars that Were Predicted Non-All Stars "
   ]
  },
  {
   "cell_type": "code",
   "execution_count": 24,
   "id": "fd072c7d-6a57-4d4d-b0a5-f345591dc374",
   "metadata": {},
   "outputs": [
    {
     "data": {
      "text/plain": [
       "310         Kyle Lowry\n",
       "343    Khris Middleton\n",
       "375      Dirk Nowitzki\n",
       "386     Victor Oladipo\n",
       "473      Klay Thompson\n",
       "489        Dwyane Wade\n",
       "Name: Player, dtype: object"
      ]
     },
     "execution_count": 24,
     "metadata": {},
     "output_type": "execute_result"
    }
   ],
   "source": [
    "as_pred_not_2019_logregr = test_players.loc[logregr_as_results.loc[(logregr_as_results.prediction==0) & (logregr_as_results['All Star'])].index].Player\n",
    "as_pred_not_2019_logregr"
   ]
  },
  {
   "cell_type": "code",
   "execution_count": 213,
   "id": "b5fe7971-278f-4efd-b89a-61e19485eeb7",
   "metadata": {},
   "outputs": [
    {
     "data": {
      "text/plain": [
       "0.23076923076923078"
      ]
     },
     "execution_count": 213,
     "metadata": {},
     "output_type": "execute_result"
    }
   ],
   "source": [
    "as_pred_not_2019_logregr.shape[0] / num_all_stars_2019"
   ]
  },
  {
   "cell_type": "markdown",
   "id": "817320da-c27d-409f-8bd7-201613bd82fc",
   "metadata": {},
   "source": [
    "### Players That Were Predicted to be All Stars But Weren't"
   ]
  },
  {
   "cell_type": "code",
   "execution_count": 27,
   "id": "20b22adf-3d4f-4b77-8940-25329ea96ed5",
   "metadata": {},
   "outputs": [
    {
     "data": {
      "text/plain": [
       "60          Devin Booker\n",
       "88          Clint Capela\n",
       "111          Mike Conley\n",
       "134        DeMar DeRozan\n",
       "141          Luka Dončić\n",
       "146       Andre Drummond\n",
       "187          Rudy Gobert\n",
       "230         Jrue Holiday\n",
       "291          Zach LaVine\n",
       "351     Donovan Mitchell\n",
       "414        Julius Randle\n",
       "431     D'Angelo Russell\n",
       "445        Jordan Sibert\n",
       "484    Jonas Valančiūnas\n",
       "494            John Wall\n",
       "Name: Player, dtype: object"
      ]
     },
     "execution_count": 27,
     "metadata": {},
     "output_type": "execute_result"
    }
   ],
   "source": [
    "not_as_pred_as_2019_logregr = test_players.loc[logregr_as_results.loc[(logregr_as_results.prediction==1) & ~(logregr_as_results['All Star'])].index].Player\n",
    "not_as_pred_as_2019_logregr"
   ]
  },
  {
   "cell_type": "code",
   "execution_count": 28,
   "id": "b31c1825-403d-49d6-a09a-f65761238146",
   "metadata": {},
   "outputs": [
    {
     "data": {
      "text/plain": [
       "0.5769230769230769"
      ]
     },
     "execution_count": 28,
     "metadata": {},
     "output_type": "execute_result"
    }
   ],
   "source": [
    "not_as_pred_as_2019_logregr.shape[0] / num_all_stars_2019"
   ]
  },
  {
   "cell_type": "markdown",
   "id": "b8cd772a-0927-4673-852f-460210eb429e",
   "metadata": {},
   "source": [
    "## Test on 2020-2021"
   ]
  },
  {
   "cell_type": "code",
   "execution_count": 258,
   "id": "bc3ce308-e6d3-482e-90fc-29d017bc7f3c",
   "metadata": {},
   "outputs": [],
   "source": [
    "X_test_as_2021 = test_2021[X_train_as.columns]\n",
    "y_test_as_2021 = test_2021['All Star'].astype(int)"
   ]
  },
  {
   "cell_type": "markdown",
   "id": "2560de73-c1ba-47ec-b8a9-cd7cee366f83",
   "metadata": {},
   "source": [
    "### Logistic Regression"
   ]
  },
  {
   "cell_type": "code",
   "execution_count": 259,
   "id": "0a559508-8b5a-40a0-bc8a-d104848dcfc2",
   "metadata": {},
   "outputs": [],
   "source": [
    "logregr_as_results_2021 = X_test_as_2021.copy()\n",
    "logregr_as_results_2021['prediction'] = logregr_gs_og.predict(X_test_as_2021)\n",
    "logregr_as_results_2021['All Star'] = y_test_as_2021"
   ]
  },
  {
   "cell_type": "code",
   "execution_count": 260,
   "id": "dc083626-74d5-479f-a1fb-41b51fc4b6ae",
   "metadata": {},
   "outputs": [
    {
     "data": {
      "text/plain": [
       "0.9629629629629629"
      ]
     },
     "execution_count": 260,
     "metadata": {},
     "output_type": "execute_result"
    }
   ],
   "source": [
    "metrics.recall_score(y_test_as_2021, logregr_as_results_2021['prediction'])"
   ]
  },
  {
   "cell_type": "code",
   "execution_count": 261,
   "id": "7e33fd37-cf19-4611-aa7f-e4b439f59c97",
   "metadata": {},
   "outputs": [],
   "source": [
    "logregr_as_results_2021['probability'] = logregr_gs_og.predict_proba(X_test_as_2021)[:,1]"
   ]
  },
  {
   "cell_type": "code",
   "execution_count": 276,
   "id": "f3184bd2-26b7-4bf9-962c-65f6307bf09e",
   "metadata": {},
   "outputs": [],
   "source": [
    "most_likely_names_2021, results_df_2021 = find_most_likely(logregr_as_results_2021, test_2021)"
   ]
  },
  {
   "cell_type": "code",
   "execution_count": 277,
   "id": "b33fe8f4-b466-4b1d-8bde-e8d5f32ea57e",
   "metadata": {},
   "outputs": [
    {
     "data": {
      "text/html": [
       "<div>\n",
       "<style scoped>\n",
       "    .dataframe tbody tr th:only-of-type {\n",
       "        vertical-align: middle;\n",
       "    }\n",
       "\n",
       "    .dataframe tbody tr th {\n",
       "        vertical-align: top;\n",
       "    }\n",
       "\n",
       "    .dataframe thead th {\n",
       "        text-align: right;\n",
       "    }\n",
       "</style>\n",
       "<table border=\"1\" class=\"dataframe\">\n",
       "  <thead>\n",
       "    <tr style=\"text-align: right;\">\n",
       "      <th></th>\n",
       "      <th>Percent Right</th>\n",
       "      <th>Underrated Players</th>\n",
       "      <th>Overrated Players</th>\n",
       "    </tr>\n",
       "    <tr>\n",
       "      <th>Year</th>\n",
       "      <th></th>\n",
       "      <th></th>\n",
       "      <th></th>\n",
       "    </tr>\n",
       "  </thead>\n",
       "  <tbody>\n",
       "    <tr>\n",
       "      <th>2021</th>\n",
       "      <td>0.741</td>\n",
       "      <td>CJ McCollum,Christian Wood,Bam Adebayo,Shai Gilgeous-Alexander,Karl-Anthony Towns,Trae Young,Russell Westbrook</td>\n",
       "      <td>Ben Simmons,Jayson Tatum,Mike Conley,Chris Paul,Devin Booker,Rudy Gobert,Donovan Mitchell</td>\n",
       "    </tr>\n",
       "  </tbody>\n",
       "</table>\n",
       "</div>"
      ],
      "text/plain": [
       "      Percent Right  \\\n",
       "Year                  \n",
       "2021          0.741   \n",
       "\n",
       "                                                                                                  Underrated Players  \\\n",
       "Year                                                                                                                   \n",
       "2021  CJ McCollum,Christian Wood,Bam Adebayo,Shai Gilgeous-Alexander,Karl-Anthony Towns,Trae Young,Russell Westbrook   \n",
       "\n",
       "                                                                              Overrated Players  \n",
       "Year                                                                                             \n",
       "2021  Ben Simmons,Jayson Tatum,Mike Conley,Chris Paul,Devin Booker,Rudy Gobert,Donovan Mitchell  "
      ]
     },
     "execution_count": 277,
     "metadata": {},
     "output_type": "execute_result"
    }
   ],
   "source": [
    "results_df_2021"
   ]
  },
  {
   "cell_type": "code",
   "execution_count": 278,
   "id": "55753c2b-f2a2-480f-9293-a1267aa8ae0f",
   "metadata": {},
   "outputs": [],
   "source": [
    "num_all_stars_2021 = test_2021.loc[test_2021['All Star']].shape[0]"
   ]
  },
  {
   "cell_type": "markdown",
   "id": "2c2fe3e5-ed88-4d5a-9fa8-730cf87b9f61",
   "metadata": {},
   "source": [
    "### Correctly Predicted All Stars "
   ]
  },
  {
   "cell_type": "code",
   "execution_count": 32,
   "id": "0af10aa3-b42d-4c7f-bf66-dd46a60486b3",
   "metadata": {},
   "outputs": [
    {
     "data": {
      "text/plain": [
       "11     Giannis Antetokounmpo\n",
       "36              Bradley Beal\n",
       "56              Devin Booker\n",
       "68              Jaylen Brown\n",
       "108            Stephen Curry\n",
       "109            Anthony Davis\n",
       "117              Luka Dončić\n",
       "126             Kevin Durant\n",
       "131              Joel Embiid\n",
       "156              Paul George\n",
       "161              Rudy Gobert\n",
       "181             James Harden\n",
       "220             Kyrie Irving\n",
       "227             LeBron James\n",
       "236             Nikola Jokić\n",
       "257              Zach LaVine\n",
       "263            Kawhi Leonard\n",
       "267           Damian Lillard\n",
       "315         Donovan Mitchell\n",
       "361               Chris Paul\n",
       "383            Julius Randle\n",
       "403         Domantas Sabonis\n",
       "415              Ben Simmons\n",
       "430             Jayson Tatum\n",
       "454           Nikola Vučević\n",
       "478          Zion Williamson\n",
       "Name: Player, dtype: object"
      ]
     },
     "execution_count": 32,
     "metadata": {},
     "output_type": "execute_result"
    }
   ],
   "source": [
    "correct_as_2021_logregr = test_2021.loc[logregr_as_results_2021.loc[(logregr_as_results_2021.prediction==1) & (logregr_as_results_2021['All Star'])].index].Player\n",
    "correct_as_2021_logregr"
   ]
  },
  {
   "cell_type": "markdown",
   "id": "2e43ebde-8ec7-4465-b65d-06d7ebb2e6b3",
   "metadata": {},
   "source": [
    "### All Stars That Were Predicted Non-All Stars"
   ]
  },
  {
   "cell_type": "code",
   "execution_count": 33,
   "id": "d735f9b1-b784-4c5e-b804-d23eb7e80977",
   "metadata": {},
   "outputs": [
    {
     "data": {
      "text/plain": [
       "98    Mike Conley\n",
       "Name: Player, dtype: object"
      ]
     },
     "execution_count": 33,
     "metadata": {},
     "output_type": "execute_result"
    }
   ],
   "source": [
    "as_pred_not_2021_logregr = test_2021.loc[logregr_as_results_2021.loc[(logregr_as_results_2021.prediction==0) & (logregr_as_results_2021['All Star'])].index].Player\n",
    "as_pred_not_2021_logregr"
   ]
  },
  {
   "cell_type": "code",
   "execution_count": 34,
   "id": "0c3a28f4-dcab-4ad0-9aca-65adcefd316c",
   "metadata": {},
   "outputs": [
    {
     "data": {
      "text/plain": [
       "0.037037037037037035"
      ]
     },
     "execution_count": 34,
     "metadata": {},
     "output_type": "execute_result"
    }
   ],
   "source": [
    "as_pred_not_2021_logregr.shape[0] / num_all_stars_2021"
   ]
  },
  {
   "cell_type": "markdown",
   "id": "3bc442a1-3c5b-4801-b100-5d15badfeb10",
   "metadata": {},
   "source": [
    "### Players That Were Predicted to be All Stars But Weren't"
   ]
  },
  {
   "cell_type": "code",
   "execution_count": 35,
   "id": "d630bf17-80ac-45c1-a1dc-8479593b17d7",
   "metadata": {},
   "outputs": [
    {
     "data": {
      "text/plain": [
       "3                  Bam Adebayo\n",
       "8                Jarrett Allen\n",
       "65             Malcolm Brogdon\n",
       "77                Jimmy Butler\n",
       "83                Clint Capela\n",
       "112              DeMar DeRozan\n",
       "146               De'Aaron Fox\n",
       "159    Shai Gilgeous-Alexander\n",
       "166               Jerami Grant\n",
       "188              Tobias Harris\n",
       "219             Brandon Ingram\n",
       "273                 Kyle Lowry\n",
       "295                CJ McCollum\n",
       "310            Khris Middleton\n",
       "326               Jamal Murray\n",
       "375         Kristaps Porziņģis\n",
       "443         Karl-Anthony Towns\n",
       "450              Fred VanVleet\n",
       "467          Russell Westbrook\n",
       "484             Christian Wood\n",
       "488                 Trae Young\n",
       "Name: Player, dtype: object"
      ]
     },
     "execution_count": 35,
     "metadata": {},
     "output_type": "execute_result"
    }
   ],
   "source": [
    "not_as_pred_as_2021_logregr = test_2021.loc[logregr_as_results_2021.loc[(logregr_as_results_2021.prediction==1) & ~(logregr_as_results_2021['All Star'])].index].Player\n",
    "not_as_pred_as_2021_logregr"
   ]
  },
  {
   "cell_type": "code",
   "execution_count": 36,
   "id": "1af4d452-af3e-47a5-ae83-e1f6b6fdd18c",
   "metadata": {},
   "outputs": [
    {
     "data": {
      "text/plain": [
       "0.7777777777777778"
      ]
     },
     "execution_count": 36,
     "metadata": {},
     "output_type": "execute_result"
    }
   ],
   "source": [
    "not_as_pred_as_2021_logregr.shape[0] / num_all_stars_2021"
   ]
  },
  {
   "cell_type": "markdown",
   "id": "ecacb381-69e1-49ca-bd8f-7051a72ef3a1",
   "metadata": {},
   "source": [
    "## Test on 2021-2022"
   ]
  },
  {
   "cell_type": "markdown",
   "id": "0cd39136-3d45-4d2d-9157-06caea957225",
   "metadata": {},
   "source": [
    "### Logistic Regression"
   ]
  },
  {
   "cell_type": "code",
   "execution_count": 127,
   "id": "59332f84-61b8-44b1-a66a-70e270bf6502",
   "metadata": {},
   "outputs": [
    {
     "name": "stderr",
     "output_type": "stream",
     "text": [
      "<ipython-input-127-4506a05ce51c>:3: SettingWithCopyWarning: \n",
      "A value is trying to be set on a copy of a slice from a DataFrame.\n",
      "Try using .loc[row_indexer,col_indexer] = value instead\n",
      "\n",
      "See the caveats in the documentation: https://pandas.pydata.org/pandas-docs/stable/user_guide/indexing.html#returning-a-view-versus-a-copy\n",
      "  X_test_as_2022['Pos'] = X_test_as_2022['Pos'].replace({'GF':'G', 'FC':'F'})\n"
     ]
    }
   ],
   "source": [
    "X_test_as_2022 = test_2022[X_train_as.columns]\n",
    "y_test_as_2022 = test_2022['All Star'].astype(int)\n",
    "X_test_as_2022['Pos'] = X_test_as_2022['Pos'].replace({'GF':'G', 'FC':'F'})\n",
    "num_all_stars_2022 = test_2022.loc[test_2022['All Star']].shape[0]"
   ]
  },
  {
   "cell_type": "code",
   "execution_count": 128,
   "id": "3b3ea2ac-058d-435e-b755-4ad801c062e7",
   "metadata": {},
   "outputs": [],
   "source": [
    "logregr_as_results_2022 = X_test_as_2022.copy()\n",
    "logregr_as_results_2022['prediction'] = logregr_gs_og.predict(X_test_as_2022)\n",
    "logregr_as_results_2022['All Star'] = y_test_as_2022"
   ]
  },
  {
   "cell_type": "code",
   "execution_count": 129,
   "id": "b7a63741-583d-44b4-8879-550d31d3b7a1",
   "metadata": {},
   "outputs": [
    {
     "data": {
      "text/plain": [
       "0.8888888888888888"
      ]
     },
     "execution_count": 129,
     "metadata": {},
     "output_type": "execute_result"
    }
   ],
   "source": [
    "metrics.recall_score(y_test_as_2022, logregr_as_results_2022['prediction'])"
   ]
  },
  {
   "cell_type": "code",
   "execution_count": 280,
   "id": "dd1d0005-728d-4cc9-8b9f-d21162551d07",
   "metadata": {},
   "outputs": [],
   "source": [
    "logregr_as_results_2022['probability'] = logregr_gs_og.predict_proba(X_test_as_2022)[:,1]\n",
    "most_likely_names_2022, results_df_2022 = find_most_likely(logregr_as_results_2022, test_2022)"
   ]
  },
  {
   "cell_type": "code",
   "execution_count": 281,
   "id": "3930a0cf-177b-4a0c-8019-6306e3d4532b",
   "metadata": {},
   "outputs": [
    {
     "data": {
      "text/html": [
       "<div>\n",
       "<style scoped>\n",
       "    .dataframe tbody tr th:only-of-type {\n",
       "        vertical-align: middle;\n",
       "    }\n",
       "\n",
       "    .dataframe tbody tr th {\n",
       "        vertical-align: top;\n",
       "    }\n",
       "\n",
       "    .dataframe thead th {\n",
       "        text-align: right;\n",
       "    }\n",
       "</style>\n",
       "<table border=\"1\" class=\"dataframe\">\n",
       "  <thead>\n",
       "    <tr style=\"text-align: right;\">\n",
       "      <th></th>\n",
       "      <th>Percent Right</th>\n",
       "      <th>Underrated Players</th>\n",
       "      <th>Overrated Players</th>\n",
       "    </tr>\n",
       "    <tr>\n",
       "      <th>Year</th>\n",
       "      <th></th>\n",
       "      <th></th>\n",
       "      <th></th>\n",
       "    </tr>\n",
       "  </thead>\n",
       "  <tbody>\n",
       "    <tr>\n",
       "      <th>2022</th>\n",
       "      <td>0.741</td>\n",
       "      <td>Domantas Sabonis,Damian Lillard,Anthony Davis,Kyrie Irving,Paul George,Shai Gilgeous-Alexander,Pascal Siakam</td>\n",
       "      <td>Khris Middleton,Draymond Green,Jarrett Allen,Fred VanVleet,Andrew Wiggins,Chris Paul,Jimmy Butler</td>\n",
       "    </tr>\n",
       "  </tbody>\n",
       "</table>\n",
       "</div>"
      ],
      "text/plain": [
       "      Percent Right  \\\n",
       "Year                  \n",
       "2022          0.741   \n",
       "\n",
       "                                                                                                Underrated Players  \\\n",
       "Year                                                                                                                 \n",
       "2022  Domantas Sabonis,Damian Lillard,Anthony Davis,Kyrie Irving,Paul George,Shai Gilgeous-Alexander,Pascal Siakam   \n",
       "\n",
       "                                                                                      Overrated Players  \n",
       "Year                                                                                                     \n",
       "2022  Khris Middleton,Draymond Green,Jarrett Allen,Fred VanVleet,Andrew Wiggins,Chris Paul,Jimmy Butler  "
      ]
     },
     "execution_count": 281,
     "metadata": {},
     "output_type": "execute_result"
    }
   ],
   "source": [
    "results_df_2022"
   ]
  },
  {
   "cell_type": "markdown",
   "id": "702eb8a0-c979-458c-9774-2a0c8c21a949",
   "metadata": {},
   "source": [
    "### Correctly Predicted All Stars"
   ]
  },
  {
   "cell_type": "code",
   "execution_count": 40,
   "id": "bd86d538-2a1d-4c65-aca3-47ee8f427fb5",
   "metadata": {},
   "outputs": [
    {
     "data": {
      "text/plain": [
       "7              Jarrett Allen\n",
       "11     Giannis Antetokounmpo\n",
       "24               LaMelo Ball\n",
       "58              Devin Booker\n",
       "86              Jimmy Butler\n",
       "125            Stephen Curry\n",
       "133            DeMar DeRozan\n",
       "140              Luka Dončić\n",
       "153             Kevin Durant\n",
       "161              Joel Embiid\n",
       "182           Darius Garland\n",
       "193              Rudy Gobert\n",
       "216             James Harden\n",
       "272             LeBron James\n",
       "288             Nikola Jokić\n",
       "323              Zach LaVine\n",
       "382         Donovan Mitchell\n",
       "389                Ja Morant\n",
       "399          Dejounte Murray\n",
       "437               Chris Paul\n",
       "525             Jayson Tatum\n",
       "545       Karl-Anthony Towns\n",
       "553            Fred VanVleet\n",
       "601               Trae Young\n",
       "Name: Player, dtype: object"
      ]
     },
     "execution_count": 40,
     "metadata": {},
     "output_type": "execute_result"
    }
   ],
   "source": [
    "correct_as_2022_logregr = test_2022.loc[logregr_as_results_2022.loc[(logregr_as_results_2022.prediction==1) & (logregr_as_results_2022['All Star'])].index].Player\n",
    "correct_as_2022_logregr"
   ]
  },
  {
   "cell_type": "markdown",
   "id": "772466c0-3403-4ce2-981b-962069b60a02",
   "metadata": {},
   "source": [
    "### All Stars That Were Predicted Non-All Stars"
   ]
  },
  {
   "cell_type": "code",
   "execution_count": 41,
   "id": "9e5626e0-a795-42ed-88cf-b865f70979ef",
   "metadata": {},
   "outputs": [
    {
     "data": {
      "text/plain": [
       "202     Draymond Green\n",
       "376    Khris Middleton\n",
       "581     Andrew Wiggins\n",
       "Name: Player, dtype: object"
      ]
     },
     "execution_count": 41,
     "metadata": {},
     "output_type": "execute_result"
    }
   ],
   "source": [
    "as_pred_not_2022_logregr = test_2022.loc[logregr_as_results_2022.loc[(logregr_as_results_2022.prediction==0) & (logregr_as_results_2022['All Star'])].index].Player\n",
    "as_pred_not_2022_logregr"
   ]
  },
  {
   "cell_type": "code",
   "execution_count": 42,
   "id": "3b158041-48fa-4be8-b26b-a3274369afbb",
   "metadata": {},
   "outputs": [
    {
     "data": {
      "text/plain": [
       "0.1111111111111111"
      ]
     },
     "execution_count": 42,
     "metadata": {},
     "output_type": "execute_result"
    }
   ],
   "source": [
    "as_pred_not_2022_logregr.shape[0] / num_all_stars_2022"
   ]
  },
  {
   "cell_type": "markdown",
   "id": "8ff98ced-425d-42db-9cb1-ceda929df9db",
   "metadata": {},
   "source": [
    "### Players That Were Predicted to be All Stars But Weren't"
   ]
  },
  {
   "cell_type": "code",
   "execution_count": 43,
   "id": "5667fb6d-9c7a-454c-8a0b-298f8c650b0e",
   "metadata": {},
   "outputs": [
    {
     "data": {
      "text/plain": [
       "2                  Bam Adebayo\n",
       "40                Bradley Beal\n",
       "75                Jaylen Brown\n",
       "126              Anthony Davis\n",
       "174               De'Aaron Fox\n",
       "187                Paul George\n",
       "190    Shai Gilgeous-Alexander\n",
       "243               Jrue Holiday\n",
       "263             Brandon Ingram\n",
       "264               Kyrie Irving\n",
       "331             Damian Lillard\n",
       "361                CJ McCollum\n",
       "454         Kristaps Porziņģis\n",
       "487           Domantas Sabonis\n",
       "500              Pascal Siakam\n",
       "550          Jonas Valančiūnas\n",
       "Name: Player, dtype: object"
      ]
     },
     "execution_count": 43,
     "metadata": {},
     "output_type": "execute_result"
    }
   ],
   "source": [
    "not_as_pred_as_2022_logregr = test_2022.loc[logregr_as_results_2022.loc[(logregr_as_results_2022.prediction==1) & ~(logregr_as_results_2022['All Star'])].index].Player\n",
    "not_as_pred_as_2022_logregr"
   ]
  },
  {
   "cell_type": "code",
   "execution_count": null,
   "id": "4082caa4-e521-4269-9165-018eab35ac3c",
   "metadata": {},
   "outputs": [],
   "source": []
  },
  {
   "cell_type": "markdown",
   "id": "c7292f3d-3b3a-4898-bf6f-ea9dcaeef23a",
   "metadata": {},
   "source": [
    "## Test on 2022-2023"
   ]
  },
  {
   "cell_type": "markdown",
   "id": "833d6def-52d2-4d85-8032-2a50c282e716",
   "metadata": {},
   "source": [
    "### Logistic Regression"
   ]
  },
  {
   "cell_type": "code",
   "execution_count": 284,
   "id": "509956b2-4257-4057-ac7f-0b4f98c7b34c",
   "metadata": {},
   "outputs": [
    {
     "name": "stderr",
     "output_type": "stream",
     "text": [
      "<ipython-input-284-7aed5d219cf8>:3: SettingWithCopyWarning: \n",
      "A value is trying to be set on a copy of a slice from a DataFrame.\n",
      "Try using .loc[row_indexer,col_indexer] = value instead\n",
      "\n",
      "See the caveats in the documentation: https://pandas.pydata.org/pandas-docs/stable/user_guide/indexing.html#returning-a-view-versus-a-copy\n",
      "  X_test_as_2023['Pos'] = X_test_as_2023['Pos'].replace({'GF':'G', 'FC':'F'})\n"
     ]
    }
   ],
   "source": [
    "X_test_as_2023 = test_2023[X_train_as.columns]\n",
    "y_test_as_2023 = test_2023['All Star'].astype(int)\n",
    "X_test_as_2023['Pos'] = X_test_as_2023['Pos'].replace({'GF':'G', 'FC':'F'})\n",
    "num_all_stars_2023 = test_2023.loc[test_2023['All Star']].shape[0]"
   ]
  },
  {
   "cell_type": "code",
   "execution_count": 285,
   "id": "46b83698-9085-4e61-ae73-84982cd20b1e",
   "metadata": {},
   "outputs": [],
   "source": [
    "logregr_as_results_2023 = X_test_as_2023.copy()\n",
    "logregr_as_results_2023['prediction'] = logregr_gs_og.predict(X_test_as_2023)\n",
    "logregr_as_results_2023['All Star'] = y_test_as_2023"
   ]
  },
  {
   "cell_type": "code",
   "execution_count": 286,
   "id": "8923ba90-e701-442c-b0c0-99f2e77b3783",
   "metadata": {},
   "outputs": [
    {
     "data": {
      "text/plain": [
       "1.0"
      ]
     },
     "execution_count": 286,
     "metadata": {},
     "output_type": "execute_result"
    }
   ],
   "source": [
    "metrics.recall_score(y_test_as_2023, logregr_as_results_2023['prediction'])"
   ]
  },
  {
   "cell_type": "code",
   "execution_count": 287,
   "id": "d727fee6-8585-4a7f-90fb-1b91cc1be694",
   "metadata": {},
   "outputs": [
    {
     "data": {
      "text/html": [
       "<div>\n",
       "<style scoped>\n",
       "    .dataframe tbody tr th:only-of-type {\n",
       "        vertical-align: middle;\n",
       "    }\n",
       "\n",
       "    .dataframe tbody tr th {\n",
       "        vertical-align: top;\n",
       "    }\n",
       "\n",
       "    .dataframe thead th {\n",
       "        text-align: right;\n",
       "    }\n",
       "</style>\n",
       "<table border=\"1\" class=\"dataframe\">\n",
       "  <thead>\n",
       "    <tr style=\"text-align: right;\">\n",
       "      <th></th>\n",
       "      <th>Percent Right</th>\n",
       "      <th>Underrated Players</th>\n",
       "      <th>Overrated Players</th>\n",
       "    </tr>\n",
       "    <tr>\n",
       "      <th>Year</th>\n",
       "      <th></th>\n",
       "      <th></th>\n",
       "      <th></th>\n",
       "    </tr>\n",
       "  </thead>\n",
       "  <tbody>\n",
       "    <tr>\n",
       "      <th>2023</th>\n",
       "      <td>0.778</td>\n",
       "      <td>LaMelo Ball,Anthony Davis,Kristaps Porziņģis,James Harden,Devin Booker,Trae Young</td>\n",
       "      <td>Anthony Edwards,Jaren Jackson Jr.,Jrue Holiday,Bam Adebayo,Paul George,DeMar DeRozan</td>\n",
       "    </tr>\n",
       "  </tbody>\n",
       "</table>\n",
       "</div>"
      ],
      "text/plain": [
       "      Percent Right  \\\n",
       "Year                  \n",
       "2023          0.778   \n",
       "\n",
       "                                                                     Underrated Players  \\\n",
       "Year                                                                                      \n",
       "2023  LaMelo Ball,Anthony Davis,Kristaps Porziņģis,James Harden,Devin Booker,Trae Young   \n",
       "\n",
       "                                                                         Overrated Players  \n",
       "Year                                                                                        \n",
       "2023  Anthony Edwards,Jaren Jackson Jr.,Jrue Holiday,Bam Adebayo,Paul George,DeMar DeRozan  "
      ]
     },
     "execution_count": 287,
     "metadata": {},
     "output_type": "execute_result"
    }
   ],
   "source": [
    "logregr_as_results_2023['probability'] = logregr_gs_og.predict_proba(X_test_as_2023)[:,1]\n",
    "most_likely_names_2023, results_df_2023 = find_most_likely(logregr_as_results_2023, test_2023)\n",
    "results_df_2023"
   ]
  },
  {
   "cell_type": "markdown",
   "id": "b6a1e2d5-308b-43ac-99ca-0182a6b50c62",
   "metadata": {},
   "source": [
    "### Correctly Predicted All Stars"
   ]
  },
  {
   "cell_type": "code",
   "execution_count": 49,
   "id": "17e8c245-3448-4916-83ec-a4510a627ff3",
   "metadata": {},
   "outputs": [
    {
     "data": {
      "text/plain": [
       "2                  Bam Adebayo\n",
       "10       Giannis Antetokounmpo\n",
       "63                Jaylen Brown\n",
       "106              Stephen Curry\n",
       "115              DeMar DeRozan\n",
       "123                Luka Dončić\n",
       "135               Kevin Durant\n",
       "138            Anthony Edwards\n",
       "141                Joel Embiid\n",
       "151               De'Aaron Fox\n",
       "159                Paul George\n",
       "162    Shai Gilgeous-Alexander\n",
       "182          Tyrese Haliburton\n",
       "210               Jrue Holiday\n",
       "226               Kyrie Irving\n",
       "231          Jaren Jackson Jr.\n",
       "235               LeBron James\n",
       "245               Nikola Jokić\n",
       "287             Damian Lillard\n",
       "302            Lauri Markkanen\n",
       "332           Donovan Mitchell\n",
       "340                  Ja Morant\n",
       "399              Julius Randle\n",
       "422           Domantas Sabonis\n",
       "436              Pascal Siakam\n",
       "459               Jayson Tatum\n",
       "520            Zion Williamson\n",
       "Name: Player, dtype: object"
      ]
     },
     "execution_count": 49,
     "metadata": {},
     "output_type": "execute_result"
    }
   ],
   "source": [
    "correct_as_2023_logregr = test_2023.loc[logregr_as_results_2023.loc[(logregr_as_results_2023.prediction==1) & (logregr_as_results_2023['All Star'])].index].Player\n",
    "correct_as_2023_logregr"
   ]
  },
  {
   "cell_type": "markdown",
   "id": "627322cc-2dd8-430c-90da-7920e49827fe",
   "metadata": {},
   "source": [
    "### All Stars That Were Predicted Non-All Stars"
   ]
  },
  {
   "cell_type": "code",
   "execution_count": 50,
   "id": "ffd9ebae-2fd5-41f0-a370-9455f6b0ae65",
   "metadata": {},
   "outputs": [
    {
     "data": {
      "text/plain": [
       "Series([], Name: Player, dtype: object)"
      ]
     },
     "execution_count": 50,
     "metadata": {},
     "output_type": "execute_result"
    }
   ],
   "source": [
    "as_pred_not_2023_logregr = test_2023.loc[logregr_as_results_2023.loc[(logregr_as_results_2023.prediction==0) & (logregr_as_results_2023['All Star'])].index].Player\n",
    "as_pred_not_2023_logregr"
   ]
  },
  {
   "cell_type": "code",
   "execution_count": 51,
   "id": "03306b98-8381-4cab-b2cc-9c7d23b986d5",
   "metadata": {},
   "outputs": [
    {
     "data": {
      "text/plain": [
       "0.0"
      ]
     },
     "execution_count": 51,
     "metadata": {},
     "output_type": "execute_result"
    }
   ],
   "source": [
    "as_pred_not_2023_logregr.shape[0] / num_all_stars_2023"
   ]
  },
  {
   "cell_type": "markdown",
   "id": "9770cca1-d140-4563-8774-368acf4f1535",
   "metadata": {},
   "source": [
    "### Players That Were Predicted to be All Stars But Weren't"
   ]
  },
  {
   "cell_type": "code",
   "execution_count": 52,
   "id": "3e403ed4-5308-403d-91ac-0ab10c2b9fa3",
   "metadata": {},
   "outputs": [
    {
     "data": {
      "text/plain": [
       "20            LaMelo Ball\n",
       "23           Desmond Bane\n",
       "34           Bradley Beal\n",
       "48           Devin Booker\n",
       "68          Jalen Brunson\n",
       "74           Jimmy Butler\n",
       "108         Anthony Davis\n",
       "155        Darius Garland\n",
       "186          James Harden\n",
       "225        Brandon Ingram\n",
       "278           Zach LaVine\n",
       "283         Kawhi Leonard\n",
       "312           Skylar Mays\n",
       "345       Dejounte Murray\n",
       "387    Kristaps Porziņģis\n",
       "472    Karl-Anthony Towns\n",
       "475          Myles Turner\n",
       "479         Fred VanVleet\n",
       "483        Nikola Vučević\n",
       "529            Trae Young\n",
       "Name: Player, dtype: object"
      ]
     },
     "execution_count": 52,
     "metadata": {},
     "output_type": "execute_result"
    }
   ],
   "source": [
    "not_as_pred_as_2023_logregr = test_2023.loc[logregr_as_results_2023.loc[(logregr_as_results_2023.prediction==1) & ~(logregr_as_results_2023['All Star'])].index].Player\n",
    "not_as_pred_as_2023_logregr"
   ]
  },
  {
   "cell_type": "markdown",
   "id": "926e9db8-32dd-4147-9c3c-acb1053fa797",
   "metadata": {},
   "source": [
    "## All Stars Classifier Summary<a class=\"anchor\" id=\"allstarsummary\"></a>"
   ]
  },
  {
   "cell_type": "code",
   "execution_count": 53,
   "id": "b3d6a12f-d85b-4432-bb80-d54926771c19",
   "metadata": {},
   "outputs": [],
   "source": [
    "as_2019_logregr = test_players.loc[test_players['All Star']][['Player', 'Pos', 'TS%', 'RPG', 'APG', 'PPG', 'BPG', 'SPG','All Star','Year']]\n",
    "def rating_col(player):\n",
    "    if player in correct_as_2019_logreg.values:\n",
    "        return 'properly rated'\n",
    "    elif player in as_pred_not_2019_logregr.values:\n",
    "        return 'overrated'\n",
    "as_2019_logregr['Rating'] = as_2019_logregr.Player.apply(rating_col)\n",
    "as_summary_2019_logregr = as_2019_logregr[['Player', 'Rating', 'Year']]\n",
    "as_other_2019_logregr = not_as_pred_as_2019_logregr.to_frame(name = 'Player')\n",
    "as_other_2019_logregr['Rating'] = 'underrated'\n",
    "as_other_2019_logregr['Year'] = 2019\n",
    "as_summary_2019_logregr = pd.concat([as_other_2019_logregr, as_summary_2019_logregr]).sort_values('Rating')"
   ]
  },
  {
   "cell_type": "code",
   "execution_count": 54,
   "id": "633b8c5d-522c-45b6-8edc-cd3d8f1d7f0d",
   "metadata": {},
   "outputs": [],
   "source": [
    "as_2021_logregr = test_2021.loc[test_2021['All Star']][['Player', 'Pos', 'TS%', 'RPG', 'APG', 'PPG', 'BPG', 'SPG','All Star','Year']]\n",
    "def rating_col(player):\n",
    "    if player in correct_as_2021_logregr.values:\n",
    "        return 'properly rated'\n",
    "    elif player in as_pred_not_2021_logregr.values:\n",
    "        return 'overrated'\n",
    "as_2021_logregr['Rating'] = as_2021_logregr.Player.apply(rating_col)\n",
    "as_summary_2021_logregr = as_2021_logregr[['Player', 'Rating', 'Year']]\n",
    "as_other_2021_logregr = not_as_pred_as_2021_logregr.to_frame(name = 'Player')\n",
    "as_other_2021_logregr['Rating'] = 'underrated'\n",
    "as_other_2021_logregr['Year'] = 2021\n",
    "as_summary_2021_logregr = pd.concat([as_other_2021_logregr, as_summary_2021_logregr]).sort_values('Rating')"
   ]
  },
  {
   "cell_type": "code",
   "execution_count": 55,
   "id": "3acb1047-5bd3-4a96-8ad4-3157092324e9",
   "metadata": {},
   "outputs": [],
   "source": [
    "as_2022_logregr = test_2022.loc[test_2022['All Star']][['Player', 'Pos', 'Age', 'TS%', 'RPG', 'APG', 'PPG', 'BPG', 'SPG','All Star','Year']]\n",
    "def rating_col(player):\n",
    "    if player in correct_as_2022_logregr.values:\n",
    "        return 'properly rated'\n",
    "    elif player in as_pred_not_2022_logregr.values:\n",
    "        return 'overrated'\n",
    "as_2022_logregr['Rating'] = as_2022_logregr.Player.apply(rating_col)\n",
    "as_summary_2022_logregr = as_2022_logregr[['Player', 'Rating', 'Year']]\n",
    "as_other_2022_logregr = not_as_pred_as_2022_logregr.to_frame(name = 'Player')\n",
    "as_other_2022_logregr['Rating'] = 'underrated'\n",
    "as_other_2022_logregr['Year'] = 2022\n",
    "as_summary_2022_logregr = pd.concat([as_other_2022_logregr, as_summary_2022_logregr]).sort_values('Rating')"
   ]
  },
  {
   "cell_type": "code",
   "execution_count": 56,
   "id": "4cc44ef2-11b7-47a4-8da4-ecac7b717390",
   "metadata": {},
   "outputs": [],
   "source": [
    "as_2023_logregr = test_2023.loc[test_2023['All Star']][['Player', 'Pos', 'Age', 'TS%', 'RPG', 'APG', 'PPG', 'BPG', 'SPG','All Star','Year']]\n",
    "def rating_col(player):\n",
    "    if player in correct_as_2023_logregr.values:\n",
    "        return 'properly rated'\n",
    "    elif player in as_pred_not_2023_logregr.values:\n",
    "        return 'overrated'\n",
    "as_2023_logregr['Rating'] = as_2023_logregr.Player.apply(rating_col)\n",
    "as_summary_2023_logregr = as_2023_logregr[['Player', 'Rating', 'Year']]\n",
    "as_other_2023_logregr = not_as_pred_as_2023_logregr.to_frame(name = 'Player')\n",
    "as_other_2023_logregr['Rating'] = 'underrated'\n",
    "as_other_2023_logregr['Year'] = 2023\n",
    "as_summary_2023_logregr = pd.concat([as_other_2023_logregr, as_summary_2023_logregr]).sort_values('Rating')"
   ]
  },
  {
   "cell_type": "code",
   "execution_count": 57,
   "id": "f8abb966-1fe5-4b1e-b8a9-61b8fb0496b8",
   "metadata": {},
   "outputs": [],
   "source": [
    "as_summaries_logregr = pd.concat([as_summary_2019_logregr, as_summary_2021_logregr, as_summary_2022_logregr, as_summary_2023_logregr])"
   ]
  },
  {
   "cell_type": "code",
   "execution_count": 58,
   "id": "6c5f2293-3b34-49f1-8e0e-63ebca4adb5c",
   "metadata": {},
   "outputs": [],
   "source": [
    "as_summaries_logregr['Year'] = as_summaries_logregr['Year'].astype(str)\n",
    "as_summaries_grouped_logregr = as_summaries_logregr.groupby('Player').agg({'Rating':', '.join, 'Year':', '.join}).reset_index()"
   ]
  },
  {
   "cell_type": "code",
   "execution_count": 60,
   "id": "5fb2ec26-2a2b-42e6-abf8-603b4f26126c",
   "metadata": {},
   "outputs": [
    {
     "name": "stdout",
     "output_type": "stream",
     "text": [
      "Giannis Antetokounmpo\n",
      "Joel Embiid\n",
      "Kevin Durant\n",
      "LeBron James\n",
      "Nikola Jokić\n",
      "Stephen Curry\n"
     ]
    },
    {
     "data": {
      "text/plain": [
       "[None, None, None, None, None, None]"
      ]
     },
     "execution_count": 60,
     "metadata": {},
     "output_type": "execute_result"
    }
   ],
   "source": [
    "[print(n) for n in as_summaries_grouped_logregr.loc[as_summaries_grouped_logregr.Rating == 'properly rated, properly rated, properly rated, properly rated'].Player.values]"
   ]
  },
  {
   "cell_type": "code",
   "execution_count": 62,
   "id": "7b5a9138-91ff-4411-8738-83058552165d",
   "metadata": {},
   "outputs": [
    {
     "data": {
      "text/html": [
       "<div>\n",
       "<style scoped>\n",
       "    .dataframe tbody tr th:only-of-type {\n",
       "        vertical-align: middle;\n",
       "    }\n",
       "\n",
       "    .dataframe tbody tr th {\n",
       "        vertical-align: top;\n",
       "    }\n",
       "\n",
       "    .dataframe thead th {\n",
       "        text-align: right;\n",
       "    }\n",
       "</style>\n",
       "<table border=\"1\" class=\"dataframe\">\n",
       "  <thead>\n",
       "    <tr style=\"text-align: right;\">\n",
       "      <th></th>\n",
       "      <th>Player</th>\n",
       "      <th>Rating</th>\n",
       "      <th>Year</th>\n",
       "    </tr>\n",
       "  </thead>\n",
       "  <tbody>\n",
       "    <tr>\n",
       "      <th>2</th>\n",
       "      <td>Anthony Davis</td>\n",
       "      <td>properly rated, properly rated, underrated, un...</td>\n",
       "      <td>2019, 2021, 2022, 2023</td>\n",
       "    </tr>\n",
       "    <tr>\n",
       "      <th>7</th>\n",
       "      <td>Bradley Beal</td>\n",
       "      <td>properly rated, properly rated, underrated, un...</td>\n",
       "      <td>2019, 2021, 2022, 2023</td>\n",
       "    </tr>\n",
       "    <tr>\n",
       "      <th>14</th>\n",
       "      <td>Damian Lillard</td>\n",
       "      <td>properly rated, properly rated, underrated, pr...</td>\n",
       "      <td>2019, 2021, 2022, 2023</td>\n",
       "    </tr>\n",
       "    <tr>\n",
       "      <th>17</th>\n",
       "      <td>DeMar DeRozan</td>\n",
       "      <td>underrated, underrated, properly rated, proper...</td>\n",
       "      <td>2019, 2021, 2022, 2023</td>\n",
       "    </tr>\n",
       "    <tr>\n",
       "      <th>20</th>\n",
       "      <td>Devin Booker</td>\n",
       "      <td>underrated, properly rated, properly rated, un...</td>\n",
       "      <td>2019, 2021, 2022, 2023</td>\n",
       "    </tr>\n",
       "    <tr>\n",
       "      <th>23</th>\n",
       "      <td>Donovan Mitchell</td>\n",
       "      <td>underrated, properly rated, properly rated, pr...</td>\n",
       "      <td>2019, 2021, 2022, 2023</td>\n",
       "    </tr>\n",
       "    <tr>\n",
       "      <th>31</th>\n",
       "      <td>James Harden</td>\n",
       "      <td>properly rated, properly rated, properly rated...</td>\n",
       "      <td>2019, 2021, 2022, 2023</td>\n",
       "    </tr>\n",
       "    <tr>\n",
       "      <th>44</th>\n",
       "      <td>Karl-Anthony Towns</td>\n",
       "      <td>properly rated, underrated, properly rated, un...</td>\n",
       "      <td>2019, 2021, 2022, 2023</td>\n",
       "    </tr>\n",
       "    <tr>\n",
       "      <th>52</th>\n",
       "      <td>Kyrie Irving</td>\n",
       "      <td>properly rated, properly rated, underrated, pr...</td>\n",
       "      <td>2019, 2021, 2022, 2023</td>\n",
       "    </tr>\n",
       "    <tr>\n",
       "      <th>57</th>\n",
       "      <td>Luka Dončić</td>\n",
       "      <td>underrated, properly rated, properly rated, pr...</td>\n",
       "      <td>2019, 2021, 2022, 2023</td>\n",
       "    </tr>\n",
       "    <tr>\n",
       "      <th>64</th>\n",
       "      <td>Paul George</td>\n",
       "      <td>properly rated, properly rated, underrated, pr...</td>\n",
       "      <td>2019, 2021, 2022, 2023</td>\n",
       "    </tr>\n",
       "    <tr>\n",
       "      <th>74</th>\n",
       "      <td>Zach LaVine</td>\n",
       "      <td>underrated, properly rated, properly rated, un...</td>\n",
       "      <td>2019, 2021, 2022, 2023</td>\n",
       "    </tr>\n",
       "  </tbody>\n",
       "</table>\n",
       "</div>"
      ],
      "text/plain": [
       "                Player                                             Rating  \\\n",
       "2        Anthony Davis  properly rated, properly rated, underrated, un...   \n",
       "7         Bradley Beal  properly rated, properly rated, underrated, un...   \n",
       "14      Damian Lillard  properly rated, properly rated, underrated, pr...   \n",
       "17       DeMar DeRozan  underrated, underrated, properly rated, proper...   \n",
       "20        Devin Booker  underrated, properly rated, properly rated, un...   \n",
       "23    Donovan Mitchell  underrated, properly rated, properly rated, pr...   \n",
       "31        James Harden  properly rated, properly rated, properly rated...   \n",
       "44  Karl-Anthony Towns  properly rated, underrated, properly rated, un...   \n",
       "52        Kyrie Irving  properly rated, properly rated, underrated, pr...   \n",
       "57         Luka Dončić  underrated, properly rated, properly rated, pr...   \n",
       "64         Paul George  properly rated, properly rated, underrated, pr...   \n",
       "74         Zach LaVine  underrated, properly rated, properly rated, un...   \n",
       "\n",
       "                      Year  \n",
       "2   2019, 2021, 2022, 2023  \n",
       "7   2019, 2021, 2022, 2023  \n",
       "14  2019, 2021, 2022, 2023  \n",
       "17  2019, 2021, 2022, 2023  \n",
       "20  2019, 2021, 2022, 2023  \n",
       "23  2019, 2021, 2022, 2023  \n",
       "31  2019, 2021, 2022, 2023  \n",
       "44  2019, 2021, 2022, 2023  \n",
       "52  2019, 2021, 2022, 2023  \n",
       "57  2019, 2021, 2022, 2023  \n",
       "64  2019, 2021, 2022, 2023  \n",
       "74  2019, 2021, 2022, 2023  "
      ]
     },
     "execution_count": 62,
     "metadata": {},
     "output_type": "execute_result"
    }
   ],
   "source": [
    "as_summaries_grouped_logregr.loc[(as_summaries_grouped_logregr.Year == '2019, 2021, 2022, 2023') & ~(as_summaries_grouped_logregr.Rating == 'properly rated, properly rated, properly rated, properly rated')]"
   ]
  },
  {
   "cell_type": "code",
   "execution_count": 63,
   "id": "e67b4e4d-14b4-4715-943a-9613ff7c2d0b",
   "metadata": {},
   "outputs": [
    {
     "data": {
      "text/html": [
       "<div>\n",
       "<style scoped>\n",
       "    .dataframe tbody tr th:only-of-type {\n",
       "        vertical-align: middle;\n",
       "    }\n",
       "\n",
       "    .dataframe tbody tr th {\n",
       "        vertical-align: top;\n",
       "    }\n",
       "\n",
       "    .dataframe thead th {\n",
       "        text-align: right;\n",
       "    }\n",
       "</style>\n",
       "<table border=\"1\" class=\"dataframe\">\n",
       "  <thead>\n",
       "    <tr style=\"text-align: right;\">\n",
       "      <th></th>\n",
       "      <th>Player</th>\n",
       "      <th>Rating</th>\n",
       "      <th>Year</th>\n",
       "    </tr>\n",
       "  </thead>\n",
       "  <tbody>\n",
       "    <tr>\n",
       "      <th>0</th>\n",
       "      <td>Andre Drummond</td>\n",
       "      <td>underrated</td>\n",
       "      <td>2019</td>\n",
       "    </tr>\n",
       "    <tr>\n",
       "      <th>8</th>\n",
       "      <td>Brandon Ingram</td>\n",
       "      <td>underrated, underrated, underrated</td>\n",
       "      <td>2021, 2022, 2023</td>\n",
       "    </tr>\n",
       "    <tr>\n",
       "      <th>9</th>\n",
       "      <td>CJ McCollum</td>\n",
       "      <td>underrated, underrated</td>\n",
       "      <td>2021, 2022</td>\n",
       "    </tr>\n",
       "    <tr>\n",
       "      <th>11</th>\n",
       "      <td>Christian Wood</td>\n",
       "      <td>underrated</td>\n",
       "      <td>2021</td>\n",
       "    </tr>\n",
       "    <tr>\n",
       "      <th>12</th>\n",
       "      <td>Clint Capela</td>\n",
       "      <td>underrated, underrated</td>\n",
       "      <td>2019, 2021</td>\n",
       "    </tr>\n",
       "    <tr>\n",
       "      <th>13</th>\n",
       "      <td>D'Angelo Russell</td>\n",
       "      <td>underrated</td>\n",
       "      <td>2019</td>\n",
       "    </tr>\n",
       "    <tr>\n",
       "      <th>19</th>\n",
       "      <td>Desmond Bane</td>\n",
       "      <td>underrated</td>\n",
       "      <td>2023</td>\n",
       "    </tr>\n",
       "    <tr>\n",
       "      <th>29</th>\n",
       "      <td>Jalen Brunson</td>\n",
       "      <td>underrated</td>\n",
       "      <td>2023</td>\n",
       "    </tr>\n",
       "    <tr>\n",
       "      <th>30</th>\n",
       "      <td>Jamal Murray</td>\n",
       "      <td>underrated</td>\n",
       "      <td>2021</td>\n",
       "    </tr>\n",
       "    <tr>\n",
       "      <th>36</th>\n",
       "      <td>Jerami Grant</td>\n",
       "      <td>underrated</td>\n",
       "      <td>2021</td>\n",
       "    </tr>\n",
       "    <tr>\n",
       "      <th>39</th>\n",
       "      <td>John Wall</td>\n",
       "      <td>underrated</td>\n",
       "      <td>2019</td>\n",
       "    </tr>\n",
       "    <tr>\n",
       "      <th>40</th>\n",
       "      <td>Jonas Valančiūnas</td>\n",
       "      <td>underrated, underrated</td>\n",
       "      <td>2019, 2022</td>\n",
       "    </tr>\n",
       "    <tr>\n",
       "      <th>41</th>\n",
       "      <td>Jordan Sibert</td>\n",
       "      <td>underrated</td>\n",
       "      <td>2019</td>\n",
       "    </tr>\n",
       "    <tr>\n",
       "      <th>50</th>\n",
       "      <td>Kristaps Porziņģis</td>\n",
       "      <td>underrated, underrated, underrated</td>\n",
       "      <td>2021, 2022, 2023</td>\n",
       "    </tr>\n",
       "    <tr>\n",
       "      <th>58</th>\n",
       "      <td>Malcolm Brogdon</td>\n",
       "      <td>underrated</td>\n",
       "      <td>2021</td>\n",
       "    </tr>\n",
       "    <tr>\n",
       "      <th>60</th>\n",
       "      <td>Myles Turner</td>\n",
       "      <td>underrated</td>\n",
       "      <td>2023</td>\n",
       "    </tr>\n",
       "    <tr>\n",
       "      <th>68</th>\n",
       "      <td>Skylar Mays</td>\n",
       "      <td>underrated</td>\n",
       "      <td>2023</td>\n",
       "    </tr>\n",
       "    <tr>\n",
       "      <th>70</th>\n",
       "      <td>Tobias Harris</td>\n",
       "      <td>underrated</td>\n",
       "      <td>2021</td>\n",
       "    </tr>\n",
       "  </tbody>\n",
       "</table>\n",
       "</div>"
      ],
      "text/plain": [
       "                Player                              Rating              Year\n",
       "0       Andre Drummond                          underrated              2019\n",
       "8       Brandon Ingram  underrated, underrated, underrated  2021, 2022, 2023\n",
       "9          CJ McCollum              underrated, underrated        2021, 2022\n",
       "11      Christian Wood                          underrated              2021\n",
       "12        Clint Capela              underrated, underrated        2019, 2021\n",
       "13    D'Angelo Russell                          underrated              2019\n",
       "19        Desmond Bane                          underrated              2023\n",
       "29       Jalen Brunson                          underrated              2023\n",
       "30        Jamal Murray                          underrated              2021\n",
       "36        Jerami Grant                          underrated              2021\n",
       "39           John Wall                          underrated              2019\n",
       "40   Jonas Valančiūnas              underrated, underrated        2019, 2022\n",
       "41       Jordan Sibert                          underrated              2019\n",
       "50  Kristaps Porziņģis  underrated, underrated, underrated  2021, 2022, 2023\n",
       "58     Malcolm Brogdon                          underrated              2021\n",
       "60        Myles Turner                          underrated              2023\n",
       "68         Skylar Mays                          underrated              2023\n",
       "70       Tobias Harris                          underrated              2021"
      ]
     },
     "execution_count": 63,
     "metadata": {},
     "output_type": "execute_result"
    }
   ],
   "source": [
    "as_summaries_grouped_logregr.loc[as_summaries_grouped_logregr.Rating.isin(['underrated, underrated', 'underrated, underrated, underrated', 'underrated, underrated, underrated, underrated','underrated'])]"
   ]
  },
  {
   "cell_type": "code",
   "execution_count": 309,
   "id": "a0f1fce1-b48b-4415-bf0c-4d54095361f1",
   "metadata": {},
   "outputs": [],
   "source": [
    "as_summaries_grouped_logregr.to_csv('all_star_logregr_summary.csv', index = False)"
   ]
  },
  {
   "cell_type": "code",
   "execution_count": 65,
   "id": "42831500-497b-4b7d-a3ba-1aa9c450b60c",
   "metadata": {},
   "outputs": [
    {
     "data": {
      "text/html": [
       "<div>\n",
       "<style scoped>\n",
       "    .dataframe tbody tr th:only-of-type {\n",
       "        vertical-align: middle;\n",
       "    }\n",
       "\n",
       "    .dataframe tbody tr th {\n",
       "        vertical-align: top;\n",
       "    }\n",
       "\n",
       "    .dataframe thead th {\n",
       "        text-align: right;\n",
       "    }\n",
       "</style>\n",
       "<table border=\"1\" class=\"dataframe\">\n",
       "  <thead>\n",
       "    <tr style=\"text-align: right;\">\n",
       "      <th></th>\n",
       "      <th>Player</th>\n",
       "      <th>Rating</th>\n",
       "      <th>Year</th>\n",
       "    </tr>\n",
       "  </thead>\n",
       "  <tbody>\n",
       "    <tr>\n",
       "      <th>1</th>\n",
       "      <td>Andrew Wiggins</td>\n",
       "      <td>overrated</td>\n",
       "      <td>2022</td>\n",
       "    </tr>\n",
       "    <tr>\n",
       "      <th>21</th>\n",
       "      <td>Dirk Nowitzki</td>\n",
       "      <td>overrated</td>\n",
       "      <td>2019</td>\n",
       "    </tr>\n",
       "    <tr>\n",
       "      <th>24</th>\n",
       "      <td>Draymond Green</td>\n",
       "      <td>overrated</td>\n",
       "      <td>2022</td>\n",
       "    </tr>\n",
       "    <tr>\n",
       "      <th>25</th>\n",
       "      <td>Dwyane Wade</td>\n",
       "      <td>overrated</td>\n",
       "      <td>2019</td>\n",
       "    </tr>\n",
       "    <tr>\n",
       "      <th>49</th>\n",
       "      <td>Klay Thompson</td>\n",
       "      <td>overrated</td>\n",
       "      <td>2019</td>\n",
       "    </tr>\n",
       "    <tr>\n",
       "      <th>73</th>\n",
       "      <td>Victor Oladipo</td>\n",
       "      <td>overrated</td>\n",
       "      <td>2019</td>\n",
       "    </tr>\n",
       "  </tbody>\n",
       "</table>\n",
       "</div>"
      ],
      "text/plain": [
       "            Player     Rating  Year\n",
       "1   Andrew Wiggins  overrated  2022\n",
       "21   Dirk Nowitzki  overrated  2019\n",
       "24  Draymond Green  overrated  2022\n",
       "25     Dwyane Wade  overrated  2019\n",
       "49   Klay Thompson  overrated  2019\n",
       "73  Victor Oladipo  overrated  2019"
      ]
     },
     "execution_count": 65,
     "metadata": {},
     "output_type": "execute_result"
    }
   ],
   "source": [
    "as_summaries_grouped_logregr.loc[as_summaries_grouped_logregr.Rating.isin(['overrated, overrated', 'overrated, overrated, overrated', 'overrated', 'overrated, overrated, overrated, overrated'])]"
   ]
  },
  {
   "cell_type": "code",
   "execution_count": 66,
   "id": "92a78e82-21c8-40b0-a39a-8052d33891e1",
   "metadata": {},
   "outputs": [
    {
     "data": {
      "text/html": [
       "<div>\n",
       "<style scoped>\n",
       "    .dataframe tbody tr th:only-of-type {\n",
       "        vertical-align: middle;\n",
       "    }\n",
       "\n",
       "    .dataframe tbody tr th {\n",
       "        vertical-align: top;\n",
       "    }\n",
       "\n",
       "    .dataframe thead th {\n",
       "        text-align: right;\n",
       "    }\n",
       "</style>\n",
       "<table border=\"1\" class=\"dataframe\">\n",
       "  <thead>\n",
       "    <tr style=\"text-align: right;\">\n",
       "      <th></th>\n",
       "      <th>Player</th>\n",
       "      <th>Rating</th>\n",
       "      <th>Year</th>\n",
       "    </tr>\n",
       "  </thead>\n",
       "  <tbody>\n",
       "    <tr>\n",
       "      <th>1</th>\n",
       "      <td>Andrew Wiggins</td>\n",
       "      <td>overrated</td>\n",
       "      <td>2022</td>\n",
       "    </tr>\n",
       "    <tr>\n",
       "      <th>21</th>\n",
       "      <td>Dirk Nowitzki</td>\n",
       "      <td>overrated</td>\n",
       "      <td>2019</td>\n",
       "    </tr>\n",
       "    <tr>\n",
       "      <th>24</th>\n",
       "      <td>Draymond Green</td>\n",
       "      <td>overrated</td>\n",
       "      <td>2022</td>\n",
       "    </tr>\n",
       "    <tr>\n",
       "      <th>25</th>\n",
       "      <td>Dwyane Wade</td>\n",
       "      <td>overrated</td>\n",
       "      <td>2019</td>\n",
       "    </tr>\n",
       "    <tr>\n",
       "      <th>48</th>\n",
       "      <td>Khris Middleton</td>\n",
       "      <td>overrated, underrated, overrated</td>\n",
       "      <td>2019, 2021, 2022</td>\n",
       "    </tr>\n",
       "    <tr>\n",
       "      <th>49</th>\n",
       "      <td>Klay Thompson</td>\n",
       "      <td>overrated</td>\n",
       "      <td>2019</td>\n",
       "    </tr>\n",
       "    <tr>\n",
       "      <th>51</th>\n",
       "      <td>Kyle Lowry</td>\n",
       "      <td>overrated, underrated</td>\n",
       "      <td>2019, 2021</td>\n",
       "    </tr>\n",
       "    <tr>\n",
       "      <th>59</th>\n",
       "      <td>Mike Conley</td>\n",
       "      <td>underrated, overrated</td>\n",
       "      <td>2019, 2021</td>\n",
       "    </tr>\n",
       "    <tr>\n",
       "      <th>73</th>\n",
       "      <td>Victor Oladipo</td>\n",
       "      <td>overrated</td>\n",
       "      <td>2019</td>\n",
       "    </tr>\n",
       "  </tbody>\n",
       "</table>\n",
       "</div>"
      ],
      "text/plain": [
       "             Player                            Rating              Year\n",
       "1    Andrew Wiggins                         overrated              2022\n",
       "21    Dirk Nowitzki                         overrated              2019\n",
       "24   Draymond Green                         overrated              2022\n",
       "25      Dwyane Wade                         overrated              2019\n",
       "48  Khris Middleton  overrated, underrated, overrated  2019, 2021, 2022\n",
       "49    Klay Thompson                         overrated              2019\n",
       "51       Kyle Lowry             overrated, underrated        2019, 2021\n",
       "59      Mike Conley             underrated, overrated        2019, 2021\n",
       "73   Victor Oladipo                         overrated              2019"
      ]
     },
     "execution_count": 66,
     "metadata": {},
     "output_type": "execute_result"
    }
   ],
   "source": [
    "as_summaries_grouped_logregr.loc[as_summaries_grouped_logregr.Rating.str.contains('overrated')]"
   ]
  },
  {
   "cell_type": "code",
   "execution_count": 67,
   "id": "e515ac0a-4b25-4e10-94dd-3c25a85f327c",
   "metadata": {},
   "outputs": [],
   "source": [
    "summary_df = pd.DataFrame([\n",
    "             ('Logistic Regression','2018-2019', round(metrics.recall_score(y_test_as, test_as_pred_log), 3)),\n",
    "             ('Logistic Regression','2020-2021', round(metrics.recall_score(y_test_as_2021, logregr_as_results_2021['prediction']), 3)),\n",
    "             ('Logistic Regression','2021-2022', round(metrics.recall_score(y_test_as_2022, logregr_as_results_2022['prediction']), 3)),\n",
    "        ('Logistic Regression','2022-2023', round(metrics.recall_score(y_test_as_2023, logregr_as_results_2023['prediction']), 3))], \n",
    "             \n",
    "             columns = ['Classifier', 'Season', 'Recall Score'])\n",
    " "
   ]
  },
  {
   "cell_type": "code",
   "execution_count": 68,
   "id": "bc0d92e9-dbe4-43ea-809a-c6a6864a4902",
   "metadata": {},
   "outputs": [
    {
     "data": {
      "text/html": [
       "<div>\n",
       "<style scoped>\n",
       "    .dataframe tbody tr th:only-of-type {\n",
       "        vertical-align: middle;\n",
       "    }\n",
       "\n",
       "    .dataframe tbody tr th {\n",
       "        vertical-align: top;\n",
       "    }\n",
       "\n",
       "    .dataframe thead th {\n",
       "        text-align: right;\n",
       "    }\n",
       "</style>\n",
       "<table border=\"1\" class=\"dataframe\">\n",
       "  <thead>\n",
       "    <tr style=\"text-align: right;\">\n",
       "      <th></th>\n",
       "      <th>Classifier</th>\n",
       "      <th>Season</th>\n",
       "      <th>Recall Score</th>\n",
       "    </tr>\n",
       "  </thead>\n",
       "  <tbody>\n",
       "    <tr>\n",
       "      <th>3</th>\n",
       "      <td>Logistic Regression</td>\n",
       "      <td>2022-2023</td>\n",
       "      <td>1.000</td>\n",
       "    </tr>\n",
       "    <tr>\n",
       "      <th>1</th>\n",
       "      <td>Logistic Regression</td>\n",
       "      <td>2020-2021</td>\n",
       "      <td>0.963</td>\n",
       "    </tr>\n",
       "    <tr>\n",
       "      <th>2</th>\n",
       "      <td>Logistic Regression</td>\n",
       "      <td>2021-2022</td>\n",
       "      <td>0.889</td>\n",
       "    </tr>\n",
       "    <tr>\n",
       "      <th>0</th>\n",
       "      <td>Logistic Regression</td>\n",
       "      <td>2018-2019</td>\n",
       "      <td>0.769</td>\n",
       "    </tr>\n",
       "  </tbody>\n",
       "</table>\n",
       "</div>"
      ],
      "text/plain": [
       "            Classifier     Season  Recall Score\n",
       "3  Logistic Regression  2022-2023         1.000\n",
       "1  Logistic Regression  2020-2021         0.963\n",
       "2  Logistic Regression  2021-2022         0.889\n",
       "0  Logistic Regression  2018-2019         0.769"
      ]
     },
     "execution_count": 68,
     "metadata": {},
     "output_type": "execute_result"
    }
   ],
   "source": [
    "summary_df.sort_values('Recall Score', ascending=False)"
   ]
  },
  {
   "cell_type": "markdown",
   "id": "bd764233-89a8-4d22-a11c-67829678549c",
   "metadata": {},
   "source": [
    "# Version 2\n",
    "\n",
    "Scale features by year"
   ]
  },
  {
   "cell_type": "code",
   "execution_count": 130,
   "id": "b542adbf-1672-4bc9-a30d-384bfb2378ed",
   "metadata": {},
   "outputs": [
    {
     "name": "stderr",
     "output_type": "stream",
     "text": [
      "/opt/anaconda3/lib/python3.8/site-packages/pandas/core/frame.py:3191: SettingWithCopyWarning: \n",
      "A value is trying to be set on a copy of a slice from a DataFrame.\n",
      "Try using .loc[row_indexer,col_indexer] = value instead\n",
      "\n",
      "See the caveats in the documentation: https://pandas.pydata.org/pandas-docs/stable/user_guide/indexing.html#returning-a-view-versus-a-copy\n",
      "  self[k1] = value[k2]\n"
     ]
    }
   ],
   "source": [
    "stats['Pos'] = stats['Pos'].replace({'GF':'G', 'FC': 'F'})\n",
    "X_train_as2 = stats[['Year', 'Pos', 'TS%', 'RPG', 'APG', 'PPG', 'BPG', 'SPG']]\n",
    "y_train_as2 = stats['All Star'].astype(int)\n",
    "num_feat = ['TS%', 'RPG', 'APG', 'PPG', 'BPG', 'SPG']\n",
    "X_train_as2[num_feat] = X_train_as2[num_feat].transform(lambda x: minmax_scale(x.astype(float)))\n",
    "X_train_as2 = pd.concat([X_train_as2, pd.get_dummies(X_train_as2['Pos'])], axis=1)"
   ]
  },
  {
   "cell_type": "code",
   "execution_count": 131,
   "id": "21aa8444-b7a2-493f-a89a-874dd64b2ca8",
   "metadata": {},
   "outputs": [],
   "source": [
    "X_train_as2.drop(columns = 'Pos', inplace=True)"
   ]
  },
  {
   "cell_type": "code",
   "execution_count": 132,
   "id": "e89aa832-023a-49c5-967a-03c4779a13fa",
   "metadata": {},
   "outputs": [],
   "source": [
    "logregr_grid_params = grid={\"C\":np.logspace(-3,3,7), \"penalty\":[\"l1\",\"l2\"]}\n",
    "logregr_gs = GridSearchCV(LogisticRegression(), logregr_grid_params, verbose = 1, cv=3, n_jobs = -1, scoring = 'recall')"
   ]
  },
  {
   "cell_type": "code",
   "execution_count": 133,
   "id": "1fbcac0a-3eaf-409d-8163-65894af8590e",
   "metadata": {},
   "outputs": [
    {
     "name": "stdout",
     "output_type": "stream",
     "text": [
      "Fitting 3 folds for each of 14 candidates, totalling 42 fits\n"
     ]
    },
    {
     "name": "stderr",
     "output_type": "stream",
     "text": [
      "/opt/anaconda3/lib/python3.8/site-packages/sklearn/model_selection/_search.py:918: UserWarning: One or more of the test scores are non-finite: [       nan 0.                nan 0.                nan 0.24278012\n",
      "        nan 0.46132208        nan 0.53740205        nan 0.54055656\n",
      "        nan 0.54478936]\n",
      "  warnings.warn(\n",
      "/opt/anaconda3/lib/python3.8/site-packages/sklearn/linear_model/_logistic.py:763: ConvergenceWarning: lbfgs failed to converge (status=1):\n",
      "STOP: TOTAL NO. of ITERATIONS REACHED LIMIT.\n",
      "\n",
      "Increase the number of iterations (max_iter) or scale the data as shown in:\n",
      "    https://scikit-learn.org/stable/modules/preprocessing.html\n",
      "Please also refer to the documentation for alternative solver options:\n",
      "    https://scikit-learn.org/stable/modules/linear_model.html#logistic-regression\n",
      "  n_iter_i = _check_optimize_result(\n"
     ]
    },
    {
     "data": {
      "text/plain": [
       "GridSearchCV(cv=3, estimator=LogisticRegression(), n_jobs=-1,\n",
       "             param_grid={'C': array([1.e-03, 1.e-02, 1.e-01, 1.e+00, 1.e+01, 1.e+02, 1.e+03]),\n",
       "                         'penalty': ['l1', 'l2']},\n",
       "             scoring='recall', verbose=1)"
      ]
     },
     "execution_count": 133,
     "metadata": {},
     "output_type": "execute_result"
    }
   ],
   "source": [
    "logregr_gs.fit(X_train_as2, y_train_as2)"
   ]
  },
  {
   "cell_type": "markdown",
   "id": "eaca7d2c-80ce-4b17-a5dc-679932361ff3",
   "metadata": {},
   "source": [
    "## Test on 2018-2019 Data"
   ]
  },
  {
   "cell_type": "code",
   "execution_count": 288,
   "id": "d36e5875-383d-430a-9ffd-0d97916b3c26",
   "metadata": {},
   "outputs": [],
   "source": [
    "test_players_og = pd.read_csv('players_1819_cleaned.csv')\n",
    "test_2021_og = pd.read_csv('players_2021_cleaned.csv')\n",
    "test_2022_og = pd.read_csv('players_2022_cleaned.csv')"
   ]
  },
  {
   "cell_type": "code",
   "execution_count": 289,
   "id": "f43415b5-d5b1-4f15-b065-049a3e645e52",
   "metadata": {},
   "outputs": [],
   "source": [
    "test_2023_og = pd.read_csv('players_2023_cleaned.csv')"
   ]
  },
  {
   "cell_type": "code",
   "execution_count": 290,
   "id": "22f4ca49-6bf7-4a1c-b3b2-89f7e6813a72",
   "metadata": {},
   "outputs": [
    {
     "name": "stderr",
     "output_type": "stream",
     "text": [
      "/opt/anaconda3/lib/python3.8/site-packages/pandas/core/frame.py:3191: SettingWithCopyWarning: \n",
      "A value is trying to be set on a copy of a slice from a DataFrame.\n",
      "Try using .loc[row_indexer,col_indexer] = value instead\n",
      "\n",
      "See the caveats in the documentation: https://pandas.pydata.org/pandas-docs/stable/user_guide/indexing.html#returning-a-view-versus-a-copy\n",
      "  self[k1] = value[k2]\n"
     ]
    }
   ],
   "source": [
    "X_test_as2 = test_players_og[['Year', 'Pos', 'TS%', 'RPG', 'APG', 'PPG', 'BPG', 'SPG']]\n",
    "y_test_as2 = test_players_og['All Star'].astype(int)\n",
    "num_feat = ['TS%', 'RPG', 'APG', 'PPG', 'BPG', 'SPG']\n",
    "X_test_as2[num_feat] = X_test_as2[num_feat].transform(lambda x: minmax_scale(x.astype(float)))\n",
    "X_test_as2 = pd.concat([X_test_as2, pd.get_dummies(X_test_as2['Pos'])], axis=1)\n",
    "X_test_as2.drop(columns = 'Pos', inplace=True)"
   ]
  },
  {
   "cell_type": "code",
   "execution_count": 291,
   "id": "fa335a82-9c33-4983-86ec-5a9e037947d8",
   "metadata": {},
   "outputs": [
    {
     "data": {
      "text/plain": [
       "0.8461538461538461"
      ]
     },
     "execution_count": 291,
     "metadata": {},
     "output_type": "execute_result"
    }
   ],
   "source": [
    "test_as_pred_logregr2 = logregr_gs.predict(X_test_as2)\n",
    "metrics.recall_score(y_test_as2, test_as_pred_logregr2)"
   ]
  },
  {
   "cell_type": "code",
   "execution_count": 292,
   "id": "a9d071bc-d095-444c-9858-0c614dca4b8b",
   "metadata": {},
   "outputs": [],
   "source": [
    "logregr2_as_results = X_test_as2.copy()\n",
    "logregr2_as_results['prediction'] = test_as_pred_logregr2\n",
    "logregr2_as_results['All Star'] = y_test_as2"
   ]
  },
  {
   "cell_type": "code",
   "execution_count": 293,
   "id": "66c89701-f5f7-4a40-80f9-64a641674863",
   "metadata": {},
   "outputs": [
    {
     "data": {
      "text/html": [
       "<div>\n",
       "<style scoped>\n",
       "    .dataframe tbody tr th:only-of-type {\n",
       "        vertical-align: middle;\n",
       "    }\n",
       "\n",
       "    .dataframe tbody tr th {\n",
       "        vertical-align: top;\n",
       "    }\n",
       "\n",
       "    .dataframe thead th {\n",
       "        text-align: right;\n",
       "    }\n",
       "</style>\n",
       "<table border=\"1\" class=\"dataframe\">\n",
       "  <thead>\n",
       "    <tr style=\"text-align: right;\">\n",
       "      <th></th>\n",
       "      <th>Percent Right</th>\n",
       "      <th>Underrated Players</th>\n",
       "      <th>Overrated Players</th>\n",
       "    </tr>\n",
       "    <tr>\n",
       "      <th>Year</th>\n",
       "      <th></th>\n",
       "      <th></th>\n",
       "      <th></th>\n",
       "    </tr>\n",
       "  </thead>\n",
       "  <tbody>\n",
       "    <tr>\n",
       "      <th>2019</th>\n",
       "      <td>0.731</td>\n",
       "      <td>Jrue Holiday,Andre Drummond,Devin Booker,Rudy Gobert,John Wall,Luka Dončić,DeMar DeRozan</td>\n",
       "      <td>Khris Middleton,LaMarcus Aldridge,Kyle Lowry,Victor Oladipo,Dwyane Wade,Dirk Nowitzki,Klay Thompson</td>\n",
       "    </tr>\n",
       "  </tbody>\n",
       "</table>\n",
       "</div>"
      ],
      "text/plain": [
       "      Percent Right  \\\n",
       "Year                  \n",
       "2019          0.731   \n",
       "\n",
       "                                                                            Underrated Players  \\\n",
       "Year                                                                                             \n",
       "2019  Jrue Holiday,Andre Drummond,Devin Booker,Rudy Gobert,John Wall,Luka Dončić,DeMar DeRozan   \n",
       "\n",
       "                                                                                        Overrated Players  \n",
       "Year                                                                                                       \n",
       "2019  Khris Middleton,LaMarcus Aldridge,Kyle Lowry,Victor Oladipo,Dwyane Wade,Dirk Nowitzki,Klay Thompson  "
      ]
     },
     "execution_count": 293,
     "metadata": {},
     "output_type": "execute_result"
    }
   ],
   "source": [
    "logregr2_as_results['probability'] = logregr_gs.predict_proba(X_test_as2)[:,1]\n",
    "most_likely_names_2, results_df_2 = find_most_likely(logregr2_as_results, test_players_og)\n",
    "results_df_2"
   ]
  },
  {
   "cell_type": "markdown",
   "id": "d21f21ff-f704-437c-adc1-81c8c595fe69",
   "metadata": {},
   "source": [
    "### Correctly Predicted All Stars"
   ]
  },
  {
   "cell_type": "code",
   "execution_count": 77,
   "id": "1e0c2043-cb8f-4d1f-803d-240a8ff325a1",
   "metadata": {},
   "outputs": [
    {
     "data": {
      "text/plain": [
       "7          LaMarcus Aldridge\n",
       "17     Giannis Antetokounmpo\n",
       "39              Bradley Beal\n",
       "123            Stephen Curry\n",
       "125            Anthony Davis\n",
       "149             Kevin Durant\n",
       "154              Joel Embiid\n",
       "183              Paul George\n",
       "202            Blake Griffin\n",
       "206             James Harden\n",
       "248             Kyrie Irving\n",
       "257             LeBron James\n",
       "268             Nikola Jokić\n",
       "298            Kawhi Leonard\n",
       "302           Damian Lillard\n",
       "310               Kyle Lowry\n",
       "386           Victor Oladipo\n",
       "446              Ben Simmons\n",
       "477       Karl-Anthony Towns\n",
       "488           Nikola Vučević\n",
       "492             Kemba Walker\n",
       "501        Russell Westbrook\n",
       "Name: Player, dtype: object"
      ]
     },
     "execution_count": 77,
     "metadata": {},
     "output_type": "execute_result"
    }
   ],
   "source": [
    "correct_as_2019_logreg2 = test_players.loc[logregr2_as_results.loc[(logregr2_as_results.prediction==1) & (logregr2_as_results['All Star'])].index].Player\n",
    "correct_as_2019_logreg2"
   ]
  },
  {
   "cell_type": "markdown",
   "id": "8077d994-6d56-47ee-bc15-7e0e630ad332",
   "metadata": {},
   "source": [
    "### All Stars that Were Predicted Non-All Stars "
   ]
  },
  {
   "cell_type": "code",
   "execution_count": 78,
   "id": "24ddbd06-29e7-4eda-8fc2-2d4233c11771",
   "metadata": {},
   "outputs": [
    {
     "data": {
      "text/plain": [
       "343    Khris Middleton\n",
       "375      Dirk Nowitzki\n",
       "473      Klay Thompson\n",
       "489        Dwyane Wade\n",
       "Name: Player, dtype: object"
      ]
     },
     "execution_count": 78,
     "metadata": {},
     "output_type": "execute_result"
    }
   ],
   "source": [
    "as_pred_not_2019_logregr2 = test_players.loc[logregr2_as_results.loc[(logregr2_as_results.prediction==0) & (logregr2_as_results['All Star'])].index].Player\n",
    "as_pred_not_2019_logregr2"
   ]
  },
  {
   "cell_type": "code",
   "execution_count": 79,
   "id": "3dddb20c-7b0c-456b-b9e7-6dc32675ed6a",
   "metadata": {},
   "outputs": [
    {
     "data": {
      "text/plain": [
       "0.15384615384615385"
      ]
     },
     "execution_count": 79,
     "metadata": {},
     "output_type": "execute_result"
    }
   ],
   "source": [
    "as_pred_not_2019_logregr2.shape[0] / num_all_stars_2019"
   ]
  },
  {
   "cell_type": "markdown",
   "id": "25217108-0fd6-4b6f-8c53-23eb297ad814",
   "metadata": {},
   "source": [
    "### Players That Were Predicted to be All Stars But Weren't"
   ]
  },
  {
   "cell_type": "code",
   "execution_count": 80,
   "id": "95e1c647-9eef-43ec-ae40-d8133197df90",
   "metadata": {},
   "outputs": [
    {
     "data": {
      "text/plain": [
       "60          Devin Booker\n",
       "88          Clint Capela\n",
       "107         John Collins\n",
       "111          Mike Conley\n",
       "114     DeMarcus Cousins\n",
       "134        DeMar DeRozan\n",
       "141          Luka Dončić\n",
       "146       Andre Drummond\n",
       "170         De'Aaron Fox\n",
       "187          Rudy Gobert\n",
       "230         Jrue Holiday\n",
       "291          Zach LaVine\n",
       "351     Donovan Mitchell\n",
       "378         Jusuf Nurkić\n",
       "396           Chris Paul\n",
       "414        Julius Randle\n",
       "431     D'Angelo Russell\n",
       "484    Jonas Valančiūnas\n",
       "494            John Wall\n",
       "521           Trae Young\n",
       "Name: Player, dtype: object"
      ]
     },
     "execution_count": 80,
     "metadata": {},
     "output_type": "execute_result"
    }
   ],
   "source": [
    "not_as_pred_as_2019_logregr2 = test_players.loc[logregr2_as_results.loc[(logregr2_as_results.prediction==1) & ~(logregr2_as_results['All Star'])].index].Player\n",
    "not_as_pred_as_2019_logregr2"
   ]
  },
  {
   "cell_type": "code",
   "execution_count": 81,
   "id": "53a225c1-56bb-4166-9b3d-6ae6cfa995ec",
   "metadata": {},
   "outputs": [
    {
     "data": {
      "text/plain": [
       "0.7692307692307693"
      ]
     },
     "execution_count": 81,
     "metadata": {},
     "output_type": "execute_result"
    }
   ],
   "source": [
    "not_as_pred_as_2019_logregr2.shape[0] / num_all_stars_2019"
   ]
  },
  {
   "cell_type": "markdown",
   "id": "9ebe0b62-2357-47ac-97ff-4d127e9a6cad",
   "metadata": {},
   "source": [
    "## Test on 2020-2021"
   ]
  },
  {
   "cell_type": "code",
   "execution_count": 140,
   "id": "015bbb4b-ba90-42cc-aef6-da05cdcdce3e",
   "metadata": {},
   "outputs": [
    {
     "name": "stderr",
     "output_type": "stream",
     "text": [
      "/opt/anaconda3/lib/python3.8/site-packages/pandas/core/frame.py:3191: SettingWithCopyWarning: \n",
      "A value is trying to be set on a copy of a slice from a DataFrame.\n",
      "Try using .loc[row_indexer,col_indexer] = value instead\n",
      "\n",
      "See the caveats in the documentation: https://pandas.pydata.org/pandas-docs/stable/user_guide/indexing.html#returning-a-view-versus-a-copy\n",
      "  self[k1] = value[k2]\n"
     ]
    }
   ],
   "source": [
    "X_test_as_2021_2 = test_2021_og[['Year', 'Pos', 'TS%', 'RPG', 'APG', 'PPG', 'BPG', 'SPG']]\n",
    "y_test_as_2021_2 = test_2021_og['All Star'].astype(int)\n",
    "X_test_as_2021_2[num_feat] = X_test_as_2021_2[num_feat].transform(lambda x: minmax_scale(x.astype(float)))\n",
    "X_test_as_2021_2 = pd.concat([X_test_as_2021_2, pd.get_dummies(X_test_as_2021_2['Pos'])], axis=1)\n",
    "X_test_as_2021_2.drop(columns = 'Pos', inplace=True)"
   ]
  },
  {
   "cell_type": "code",
   "execution_count": 141,
   "id": "33b3b125-8631-4591-b7a2-8cde89ccae6e",
   "metadata": {},
   "outputs": [],
   "source": [
    "logregr2_as_results_2021 = X_test_as_2021_2.copy()\n",
    "logregr2_as_results_2021['prediction'] = logregr_gs.predict(X_test_as_2021_2)\n",
    "logregr2_as_results_2021['All Star'] = y_test_as_2021_2"
   ]
  },
  {
   "cell_type": "code",
   "execution_count": 142,
   "id": "09f0a9d3-c613-4144-9449-5788cc09aeb6",
   "metadata": {},
   "outputs": [
    {
     "data": {
      "text/plain": [
       "1.0"
      ]
     },
     "execution_count": 142,
     "metadata": {},
     "output_type": "execute_result"
    }
   ],
   "source": [
    "metrics.recall_score(y_test_as_2021_2, logregr2_as_results_2021['prediction'])"
   ]
  },
  {
   "cell_type": "code",
   "execution_count": 295,
   "id": "29d3575e-da4e-4f21-9dda-bf9b0d99a2fc",
   "metadata": {},
   "outputs": [
    {
     "data": {
      "text/html": [
       "<div>\n",
       "<style scoped>\n",
       "    .dataframe tbody tr th:only-of-type {\n",
       "        vertical-align: middle;\n",
       "    }\n",
       "\n",
       "    .dataframe tbody tr th {\n",
       "        vertical-align: top;\n",
       "    }\n",
       "\n",
       "    .dataframe thead th {\n",
       "        text-align: right;\n",
       "    }\n",
       "</style>\n",
       "<table border=\"1\" class=\"dataframe\">\n",
       "  <thead>\n",
       "    <tr style=\"text-align: right;\">\n",
       "      <th></th>\n",
       "      <th>Percent Right</th>\n",
       "      <th>Underrated Players</th>\n",
       "      <th>Overrated Players</th>\n",
       "    </tr>\n",
       "    <tr>\n",
       "      <th>Year</th>\n",
       "      <th></th>\n",
       "      <th></th>\n",
       "      <th></th>\n",
       "    </tr>\n",
       "  </thead>\n",
       "  <tbody>\n",
       "    <tr>\n",
       "      <th>2021</th>\n",
       "      <td>0.741</td>\n",
       "      <td>CJ McCollum,Andre Drummond,Jimmy Butler,Shai Gilgeous-Alexander,Karl-Anthony Towns,Trae Young,Russell Westbrook</td>\n",
       "      <td>Ben Simmons,Mike Conley,Chris Paul,Devin Booker,Rudy Gobert,Jaylen Brown,Donovan Mitchell</td>\n",
       "    </tr>\n",
       "  </tbody>\n",
       "</table>\n",
       "</div>"
      ],
      "text/plain": [
       "      Percent Right  \\\n",
       "Year                  \n",
       "2021          0.741   \n",
       "\n",
       "                                                                                                   Underrated Players  \\\n",
       "Year                                                                                                                    \n",
       "2021  CJ McCollum,Andre Drummond,Jimmy Butler,Shai Gilgeous-Alexander,Karl-Anthony Towns,Trae Young,Russell Westbrook   \n",
       "\n",
       "                                                                              Overrated Players  \n",
       "Year                                                                                             \n",
       "2021  Ben Simmons,Mike Conley,Chris Paul,Devin Booker,Rudy Gobert,Jaylen Brown,Donovan Mitchell  "
      ]
     },
     "execution_count": 295,
     "metadata": {},
     "output_type": "execute_result"
    }
   ],
   "source": [
    "logregr2_as_results_2021['probability'] = logregr_gs.predict_proba(X_test_as_2021_2)[:,1]\n",
    "most_likely_names_2021_2, results_df_2021_2 = find_most_likely(logregr2_as_results_2021, test_2021_og)\n",
    "results_df_2021_2"
   ]
  },
  {
   "cell_type": "markdown",
   "id": "549f77f5-9420-43bb-9df8-10fc3e57ad16",
   "metadata": {},
   "source": [
    "### Correctly Predicted All Stars"
   ]
  },
  {
   "cell_type": "code",
   "execution_count": 85,
   "id": "329a699e-531a-4ca9-a29c-9bcb76bc8758",
   "metadata": {},
   "outputs": [
    {
     "data": {
      "text/plain": [
       "11     Giannis Antetokounmpo\n",
       "36              Bradley Beal\n",
       "56              Devin Booker\n",
       "68              Jaylen Brown\n",
       "98               Mike Conley\n",
       "108            Stephen Curry\n",
       "109            Anthony Davis\n",
       "117              Luka Dončić\n",
       "126             Kevin Durant\n",
       "131              Joel Embiid\n",
       "156              Paul George\n",
       "161              Rudy Gobert\n",
       "181             James Harden\n",
       "220             Kyrie Irving\n",
       "227             LeBron James\n",
       "236             Nikola Jokić\n",
       "257              Zach LaVine\n",
       "263            Kawhi Leonard\n",
       "267           Damian Lillard\n",
       "315         Donovan Mitchell\n",
       "361               Chris Paul\n",
       "383            Julius Randle\n",
       "403         Domantas Sabonis\n",
       "415              Ben Simmons\n",
       "430             Jayson Tatum\n",
       "454           Nikola Vučević\n",
       "478          Zion Williamson\n",
       "Name: Player, dtype: object"
      ]
     },
     "execution_count": 85,
     "metadata": {},
     "output_type": "execute_result"
    }
   ],
   "source": [
    "correct_as_2021_logregr2 = test_2021.loc[logregr2_as_results_2021.loc[(logregr2_as_results_2021.prediction==1) & (logregr2_as_results_2021['All Star'])].index].Player\n",
    "correct_as_2021_logregr2"
   ]
  },
  {
   "cell_type": "markdown",
   "id": "51f84dfb-fcfd-4579-b0c7-a13a1f4fd45e",
   "metadata": {},
   "source": [
    "### All Stars That Were Predicted Non-All Stars "
   ]
  },
  {
   "cell_type": "code",
   "execution_count": 86,
   "id": "6f6d1c74-f503-4448-8594-fbe10ff6c23d",
   "metadata": {},
   "outputs": [
    {
     "data": {
      "text/plain": [
       "Series([], Name: Player, dtype: object)"
      ]
     },
     "execution_count": 86,
     "metadata": {},
     "output_type": "execute_result"
    }
   ],
   "source": [
    "as_pred_not_2021_logregr2 = test_2021.loc[logregr2_as_results_2021.loc[(logregr2_as_results_2021.prediction==0) & (logregr2_as_results_2021['All Star'])].index].Player\n",
    "as_pred_not_2021_logregr2"
   ]
  },
  {
   "cell_type": "markdown",
   "id": "37d9a963-4b16-4c88-a5e1-91b14bcbddf6",
   "metadata": {},
   "source": [
    "### Players That Were Predicted to be All Stars But Weren't"
   ]
  },
  {
   "cell_type": "code",
   "execution_count": 87,
   "id": "e12ae3c6-a261-442e-899d-d05a87ce1686",
   "metadata": {},
   "outputs": [
    {
     "data": {
      "text/plain": [
       "3                  Bam Adebayo\n",
       "8                Jarrett Allen\n",
       "20               Deandre Ayton\n",
       "24                 LaMelo Ball\n",
       "37               Malik Beasley\n",
       "65             Malcolm Brogdon\n",
       "77                Jimmy Butler\n",
       "83                Clint Capela\n",
       "97                John Collins\n",
       "112              DeMar DeRozan\n",
       "124             Andre Drummond\n",
       "146               De'Aaron Fox\n",
       "159    Shai Gilgeous-Alexander\n",
       "166               Jerami Grant\n",
       "188              Tobias Harris\n",
       "194             Gordon Hayward\n",
       "197                Tyler Herro\n",
       "203               Jrue Holiday\n",
       "219             Brandon Ingram\n",
       "265               Caris LeVert\n",
       "273                 Kyle Lowry\n",
       "295                CJ McCollum\n",
       "310            Khris Middleton\n",
       "319                  Ja Morant\n",
       "325            Dejounte Murray\n",
       "326               Jamal Murray\n",
       "350             Victor Oladipo\n",
       "375         Kristaps Porziņģis\n",
       "400               Terry Rozier\n",
       "402           D'Angelo Russell\n",
       "410              Collin Sexton\n",
       "413              Pascal Siakam\n",
       "443         Karl-Anthony Towns\n",
       "446               Myles Turner\n",
       "447          Jonas Valančiūnas\n",
       "450              Fred VanVleet\n",
       "457               Kemba Walker\n",
       "459                  John Wall\n",
       "467          Russell Westbrook\n",
       "484             Christian Wood\n",
       "488                 Trae Young\n",
       "Name: Player, dtype: object"
      ]
     },
     "execution_count": 87,
     "metadata": {},
     "output_type": "execute_result"
    }
   ],
   "source": [
    "not_as_pred_as_2021_logregr2 = test_2021.loc[logregr2_as_results_2021.loc[(logregr2_as_results_2021.prediction==1) & ~(logregr2_as_results_2021['All Star'])].index].Player\n",
    "not_as_pred_as_2021_logregr2"
   ]
  },
  {
   "cell_type": "code",
   "execution_count": 88,
   "id": "9108339b-a176-43af-9f59-6bc1dece9990",
   "metadata": {},
   "outputs": [
    {
     "data": {
      "text/plain": [
       "1.5185185185185186"
      ]
     },
     "execution_count": 88,
     "metadata": {},
     "output_type": "execute_result"
    }
   ],
   "source": [
    "not_as_pred_as_2021_logregr2.shape[0] / num_all_stars_2021"
   ]
  },
  {
   "cell_type": "markdown",
   "id": "79f615fb-d76e-4f80-98ec-b1358843d4ab",
   "metadata": {},
   "source": [
    "## Test on 2021-2022"
   ]
  },
  {
   "cell_type": "code",
   "execution_count": 155,
   "id": "a7fbfe49-ab88-4aa5-aaef-34f73cba55ad",
   "metadata": {},
   "outputs": [
    {
     "name": "stderr",
     "output_type": "stream",
     "text": [
      "<ipython-input-155-3bdf581e0cdb>:2: SettingWithCopyWarning: \n",
      "A value is trying to be set on a copy of a slice from a DataFrame.\n",
      "Try using .loc[row_indexer,col_indexer] = value instead\n",
      "\n",
      "See the caveats in the documentation: https://pandas.pydata.org/pandas-docs/stable/user_guide/indexing.html#returning-a-view-versus-a-copy\n",
      "  X_test_as_2022_2['Pos'] = X_test_as_2022_2['Pos'].replace({'GF':'G', 'FC':'F'})\n",
      "/opt/anaconda3/lib/python3.8/site-packages/pandas/core/frame.py:3191: SettingWithCopyWarning: \n",
      "A value is trying to be set on a copy of a slice from a DataFrame.\n",
      "Try using .loc[row_indexer,col_indexer] = value instead\n",
      "\n",
      "See the caveats in the documentation: https://pandas.pydata.org/pandas-docs/stable/user_guide/indexing.html#returning-a-view-versus-a-copy\n",
      "  self[k1] = value[k2]\n"
     ]
    }
   ],
   "source": [
    "X_test_as_2022_2 = test_2022_og[['Year', 'Pos', 'TS%', 'RPG', 'APG', 'PPG', 'BPG', 'SPG']]\n",
    "X_test_as_2022_2['Pos'] = X_test_as_2022_2['Pos'].replace({'GF':'G', 'FC':'F'})\n",
    "y_test_as_2022_2 = test_2022_og['All Star'].astype(int)\n",
    "X_test_as_2022_2[num_feat] = X_test_as_2022_2[num_feat].transform(lambda x: minmax_scale(x.astype(float)))\n",
    "X_test_as_2022_2 = pd.concat([X_test_as_2022_2, pd.get_dummies(X_test_as_2022_2['Pos'])], axis=1)\n",
    "X_test_as_2022_2.drop(columns = 'Pos', inplace=True)"
   ]
  },
  {
   "cell_type": "code",
   "execution_count": 144,
   "id": "e769ed97-bf50-47cf-a566-86a03f131d87",
   "metadata": {},
   "outputs": [
    {
     "data": {
      "text/plain": [
       "0.9259259259259259"
      ]
     },
     "execution_count": 144,
     "metadata": {},
     "output_type": "execute_result"
    }
   ],
   "source": [
    "logregr2_as_results_2022 = X_test_as_2022_2.copy()\n",
    "logregr2_as_results_2022['prediction'] = logregr_gs.predict(X_test_as_2022_2)\n",
    "logregr2_as_results_2022['All Star'] = y_test_as_2022_2\n",
    "metrics.recall_score(y_test_as_2022, logregr2_as_results_2022['prediction'])"
   ]
  },
  {
   "cell_type": "code",
   "execution_count": 296,
   "id": "e383989c-812b-4cdc-8a4f-383b3332ecb2",
   "metadata": {},
   "outputs": [
    {
     "data": {
      "text/html": [
       "<div>\n",
       "<style scoped>\n",
       "    .dataframe tbody tr th:only-of-type {\n",
       "        vertical-align: middle;\n",
       "    }\n",
       "\n",
       "    .dataframe tbody tr th {\n",
       "        vertical-align: top;\n",
       "    }\n",
       "\n",
       "    .dataframe thead th {\n",
       "        text-align: right;\n",
       "    }\n",
       "</style>\n",
       "<table border=\"1\" class=\"dataframe\">\n",
       "  <thead>\n",
       "    <tr style=\"text-align: right;\">\n",
       "      <th></th>\n",
       "      <th>Percent Right</th>\n",
       "      <th>Underrated Players</th>\n",
       "      <th>Overrated Players</th>\n",
       "    </tr>\n",
       "    <tr>\n",
       "      <th>Year</th>\n",
       "      <th></th>\n",
       "      <th></th>\n",
       "      <th></th>\n",
       "    </tr>\n",
       "  </thead>\n",
       "  <tbody>\n",
       "    <tr>\n",
       "      <th>2022</th>\n",
       "      <td>0.704</td>\n",
       "      <td>Domantas Sabonis,Damian Lillard,Anthony Davis,Kyrie Irving,Bradley Beal,Paul George,Shai Gilgeous-Alexander,Pascal Siakam</td>\n",
       "      <td>Khris Middleton,Draymond Green,Jarrett Allen,Fred VanVleet,Andrew Wiggins,Chris Paul,Jimmy Butler,Zach LaVine</td>\n",
       "    </tr>\n",
       "  </tbody>\n",
       "</table>\n",
       "</div>"
      ],
      "text/plain": [
       "      Percent Right  \\\n",
       "Year                  \n",
       "2022          0.704   \n",
       "\n",
       "                                                                                                             Underrated Players  \\\n",
       "Year                                                                                                                              \n",
       "2022  Domantas Sabonis,Damian Lillard,Anthony Davis,Kyrie Irving,Bradley Beal,Paul George,Shai Gilgeous-Alexander,Pascal Siakam   \n",
       "\n",
       "                                                                                                  Overrated Players  \n",
       "Year                                                                                                                 \n",
       "2022  Khris Middleton,Draymond Green,Jarrett Allen,Fred VanVleet,Andrew Wiggins,Chris Paul,Jimmy Butler,Zach LaVine  "
      ]
     },
     "execution_count": 296,
     "metadata": {},
     "output_type": "execute_result"
    }
   ],
   "source": [
    "logregr2_as_results_2022['probability'] = logregr_gs.predict_proba(X_test_as_2022_2)[:,1]\n",
    "most_likely_names_2022_2, results_df_2022_2 = find_most_likely(logregr2_as_results_2022, test_2022_og)\n",
    "results_df_2022_2"
   ]
  },
  {
   "cell_type": "markdown",
   "id": "bf95419f-ea49-41bf-85b5-cd1191c996d7",
   "metadata": {},
   "source": [
    "### Correctly Predicted All Stars"
   ]
  },
  {
   "cell_type": "code",
   "execution_count": 91,
   "id": "155c4756-639a-4bab-961a-2f902852e9e3",
   "metadata": {},
   "outputs": [
    {
     "data": {
      "text/plain": [
       "7              Jarrett Allen\n",
       "11     Giannis Antetokounmpo\n",
       "24               LaMelo Ball\n",
       "58              Devin Booker\n",
       "86              Jimmy Butler\n",
       "125            Stephen Curry\n",
       "133            DeMar DeRozan\n",
       "140              Luka Dončić\n",
       "153             Kevin Durant\n",
       "161              Joel Embiid\n",
       "182           Darius Garland\n",
       "193              Rudy Gobert\n",
       "216             James Harden\n",
       "272             LeBron James\n",
       "288             Nikola Jokić\n",
       "323              Zach LaVine\n",
       "376          Khris Middleton\n",
       "382         Donovan Mitchell\n",
       "389                Ja Morant\n",
       "399          Dejounte Murray\n",
       "437               Chris Paul\n",
       "525             Jayson Tatum\n",
       "545       Karl-Anthony Towns\n",
       "553            Fred VanVleet\n",
       "601               Trae Young\n",
       "Name: Player, dtype: object"
      ]
     },
     "execution_count": 91,
     "metadata": {},
     "output_type": "execute_result"
    }
   ],
   "source": [
    "correct_as_2022_logregr2 = test_2022.loc[logregr2_as_results_2022.loc[(logregr2_as_results_2022.prediction==1) & (logregr2_as_results_2022['All Star'])].index].Player\n",
    "correct_as_2022_logregr2"
   ]
  },
  {
   "cell_type": "markdown",
   "id": "65406d0c-c179-483e-b8a4-1586c834c6c1",
   "metadata": {},
   "source": [
    "### All Stars That Were Predicted Non-All Stars"
   ]
  },
  {
   "cell_type": "code",
   "execution_count": 92,
   "id": "8026c20c-644e-44c1-b76c-899c462ff81f",
   "metadata": {},
   "outputs": [
    {
     "data": {
      "text/plain": [
       "202    Draymond Green\n",
       "581    Andrew Wiggins\n",
       "Name: Player, dtype: object"
      ]
     },
     "execution_count": 92,
     "metadata": {},
     "output_type": "execute_result"
    }
   ],
   "source": [
    "as_pred_not_2022_logregr2 = test_2022.loc[logregr2_as_results_2022.loc[(logregr2_as_results_2022.prediction==0) & (logregr2_as_results_2022['All Star'])].index].Player\n",
    "as_pred_not_2022_logregr2"
   ]
  },
  {
   "cell_type": "code",
   "execution_count": 93,
   "id": "2cabdf51-8a6d-47e9-8273-9f241a83cbf1",
   "metadata": {},
   "outputs": [
    {
     "data": {
      "text/plain": [
       "0.07407407407407407"
      ]
     },
     "execution_count": 93,
     "metadata": {},
     "output_type": "execute_result"
    }
   ],
   "source": [
    "as_pred_not_2022_logregr2.shape[0] / num_all_stars_2022"
   ]
  },
  {
   "cell_type": "markdown",
   "id": "776a577f-8ae3-4b53-b1b1-e2330ff161e6",
   "metadata": {},
   "source": [
    "### Players That Were Predicted to be All Stars But Weren't"
   ]
  },
  {
   "cell_type": "code",
   "execution_count": 94,
   "id": "9304c015-bbc9-45c5-8502-594735398394",
   "metadata": {},
   "outputs": [
    {
     "data": {
      "text/plain": [
       "2                  Bam Adebayo\n",
       "14                Cole Anthony\n",
       "15                  OG Anunoby\n",
       "21               Deandre Ayton\n",
       "25                  Lonzo Ball\n",
       "27                Desmond Bane\n",
       "31              Scottie Barnes\n",
       "32                  RJ Barrett\n",
       "40                Bradley Beal\n",
       "66               Miles Bridges\n",
       "68             Malcolm Brogdon\n",
       "75                Jaylen Brown\n",
       "95          Wendell Carter Jr.\n",
       "110               John Collins\n",
       "123            Cade Cunningham\n",
       "126              Anthony Davis\n",
       "155            Anthony Edwards\n",
       "174               De'Aaron Fox\n",
       "187                Paul George\n",
       "189                Josh Giddey\n",
       "190    Shai Gilgeous-Alexander\n",
       "199               Jerami Grant\n",
       "212          Tyrese Haliburton\n",
       "223              Tobias Harris\n",
       "225                  Josh Hart\n",
       "234                Tyler Herro\n",
       "241               Jaylen Hoard\n",
       "243               Jrue Holiday\n",
       "263             Brandon Ingram\n",
       "264               Kyrie Irving\n",
       "268          Jaren Jackson Jr.\n",
       "318                 Kyle Kuzma\n",
       "331             Damian Lillard\n",
       "339                 Kyle Lowry\n",
       "357               Tyrese Maxey\n",
       "361                CJ McCollum\n",
       "383                Evan Mobley\n",
       "414               Jusuf Nurkić\n",
       "446               Jakob Poeltl\n",
       "449               Jordan Poole\n",
       "450           Kevin Porter Jr.\n",
       "454         Kristaps Porziņģis\n",
       "458              Norman Powell\n",
       "466              Julius Randle\n",
       "483               Terry Rozier\n",
       "485           D'Angelo Russell\n",
       "487           Domantas Sabonis\n",
       "500              Pascal Siakam\n",
       "504             Zavier Simpson\n",
       "536              Klay Thompson\n",
       "549               Myles Turner\n",
       "550          Jonas Valančiūnas\n",
       "556             Nikola Vučević\n",
       "575          Russell Westbrook\n",
       "588            Robert Williams\n",
       "595             Christian Wood\n",
       "Name: Player, dtype: object"
      ]
     },
     "execution_count": 94,
     "metadata": {},
     "output_type": "execute_result"
    }
   ],
   "source": [
    "not_as_pred_as_2022_logregr2 = test_2022.loc[logregr2_as_results_2022.loc[(logregr2_as_results_2022.prediction==1) & ~(logregr2_as_results_2022['All Star'])].index].Player\n",
    "not_as_pred_as_2022_logregr2"
   ]
  },
  {
   "cell_type": "code",
   "execution_count": null,
   "id": "2791baed-baee-441d-a167-6f537c0d120e",
   "metadata": {},
   "outputs": [],
   "source": []
  },
  {
   "cell_type": "markdown",
   "id": "744a85ba-eac0-410a-89ef-92e3418187e2",
   "metadata": {},
   "source": [
    "## Test on 2022-2023"
   ]
  },
  {
   "cell_type": "code",
   "execution_count": 147,
   "id": "76b03f58-937b-4fc8-adc9-68994134fc54",
   "metadata": {},
   "outputs": [
    {
     "name": "stderr",
     "output_type": "stream",
     "text": [
      "<ipython-input-147-fa4059bd1cec>:2: SettingWithCopyWarning: \n",
      "A value is trying to be set on a copy of a slice from a DataFrame.\n",
      "Try using .loc[row_indexer,col_indexer] = value instead\n",
      "\n",
      "See the caveats in the documentation: https://pandas.pydata.org/pandas-docs/stable/user_guide/indexing.html#returning-a-view-versus-a-copy\n",
      "  X_test_as_2023_2['Pos'] = X_test_as_2023_2['Pos'].replace({'GF':'G', 'FC':'F'})\n",
      "/opt/anaconda3/lib/python3.8/site-packages/pandas/core/frame.py:3191: SettingWithCopyWarning: \n",
      "A value is trying to be set on a copy of a slice from a DataFrame.\n",
      "Try using .loc[row_indexer,col_indexer] = value instead\n",
      "\n",
      "See the caveats in the documentation: https://pandas.pydata.org/pandas-docs/stable/user_guide/indexing.html#returning-a-view-versus-a-copy\n",
      "  self[k1] = value[k2]\n"
     ]
    }
   ],
   "source": [
    "X_test_as_2023_2 = test_2023_og[['Year', 'Pos', 'TS%', 'RPG', 'APG', 'PPG', 'BPG', 'SPG']]\n",
    "X_test_as_2023_2['Pos'] = X_test_as_2023_2['Pos'].replace({'GF':'G', 'FC':'F'})\n",
    "y_test_as_2023_2 = test_2023_og['All Star'].astype(int)\n",
    "X_test_as_2023_2[num_feat] = X_test_as_2023_2[num_feat].transform(lambda x: minmax_scale(x.astype(float)))\n",
    "X_test_as_2023_2 = pd.concat([X_test_as_2023_2, pd.get_dummies(X_test_as_2023_2['Pos'])], axis=1)\n",
    "X_test_as_2023_2.drop(columns = 'Pos', inplace=True)"
   ]
  },
  {
   "cell_type": "code",
   "execution_count": 148,
   "id": "c8bd453a-4282-4754-b165-696cd36bf048",
   "metadata": {},
   "outputs": [
    {
     "data": {
      "text/plain": [
       "1.0"
      ]
     },
     "execution_count": 148,
     "metadata": {},
     "output_type": "execute_result"
    }
   ],
   "source": [
    "logregr2_as_results_2023 = X_test_as_2023_2.copy()\n",
    "logregr2_as_results_2023['prediction'] = logregr_gs.predict(X_test_as_2023_2)\n",
    "logregr2_as_results_2023['All Star'] = y_test_as_2023_2\n",
    "metrics.recall_score(y_test_as_2023, logregr2_as_results_2023['prediction'])"
   ]
  },
  {
   "cell_type": "code",
   "execution_count": 297,
   "id": "3ae93ddb-5ff2-4a82-bf78-47523f0bc3b4",
   "metadata": {},
   "outputs": [
    {
     "data": {
      "text/html": [
       "<div>\n",
       "<style scoped>\n",
       "    .dataframe tbody tr th:only-of-type {\n",
       "        vertical-align: middle;\n",
       "    }\n",
       "\n",
       "    .dataframe tbody tr th {\n",
       "        vertical-align: top;\n",
       "    }\n",
       "\n",
       "    .dataframe thead th {\n",
       "        text-align: right;\n",
       "    }\n",
       "</style>\n",
       "<table border=\"1\" class=\"dataframe\">\n",
       "  <thead>\n",
       "    <tr style=\"text-align: right;\">\n",
       "      <th></th>\n",
       "      <th>Percent Right</th>\n",
       "      <th>Underrated Players</th>\n",
       "      <th>Overrated Players</th>\n",
       "    </tr>\n",
       "    <tr>\n",
       "      <th>Year</th>\n",
       "      <th></th>\n",
       "      <th></th>\n",
       "      <th></th>\n",
       "    </tr>\n",
       "  </thead>\n",
       "  <tbody>\n",
       "    <tr>\n",
       "      <th>2023</th>\n",
       "      <td>0.778</td>\n",
       "      <td>LaMelo Ball,Anthony Davis,Kristaps Porziņģis,James Harden,Devin Booker,Trae Young</td>\n",
       "      <td>Jaren Jackson Jr.,Jrue Holiday,Lauri Markkanen,De'Aaron Fox,Bam Adebayo,DeMar DeRozan</td>\n",
       "    </tr>\n",
       "  </tbody>\n",
       "</table>\n",
       "</div>"
      ],
      "text/plain": [
       "      Percent Right  \\\n",
       "Year                  \n",
       "2023          0.778   \n",
       "\n",
       "                                                                     Underrated Players  \\\n",
       "Year                                                                                      \n",
       "2023  LaMelo Ball,Anthony Davis,Kristaps Porziņģis,James Harden,Devin Booker,Trae Young   \n",
       "\n",
       "                                                                          Overrated Players  \n",
       "Year                                                                                         \n",
       "2023  Jaren Jackson Jr.,Jrue Holiday,Lauri Markkanen,De'Aaron Fox,Bam Adebayo,DeMar DeRozan  "
      ]
     },
     "execution_count": 297,
     "metadata": {},
     "output_type": "execute_result"
    }
   ],
   "source": [
    "logregr2_as_results_2023['probability'] = logregr_gs.predict_proba(X_test_as_2023_2)[:,1]\n",
    "most_likely_names_2023_2, results_df_2023_2 = find_most_likely(logregr2_as_results_2023, test_2023_og)\n",
    "results_df_2023_2"
   ]
  },
  {
   "cell_type": "markdown",
   "id": "536928f1-7136-4165-9ace-c10d53d37d0e",
   "metadata": {},
   "source": [
    "### Correctly Predicted All Stars"
   ]
  },
  {
   "cell_type": "code",
   "execution_count": 98,
   "id": "612fa27e-60fb-411e-98f3-0131c26a213b",
   "metadata": {},
   "outputs": [
    {
     "data": {
      "text/plain": [
       "2                  Bam Adebayo\n",
       "10       Giannis Antetokounmpo\n",
       "63                Jaylen Brown\n",
       "106              Stephen Curry\n",
       "115              DeMar DeRozan\n",
       "123                Luka Dončić\n",
       "135               Kevin Durant\n",
       "138            Anthony Edwards\n",
       "141                Joel Embiid\n",
       "151               De'Aaron Fox\n",
       "159                Paul George\n",
       "162    Shai Gilgeous-Alexander\n",
       "182          Tyrese Haliburton\n",
       "210               Jrue Holiday\n",
       "226               Kyrie Irving\n",
       "231          Jaren Jackson Jr.\n",
       "235               LeBron James\n",
       "245               Nikola Jokić\n",
       "287             Damian Lillard\n",
       "302            Lauri Markkanen\n",
       "332           Donovan Mitchell\n",
       "340                  Ja Morant\n",
       "399              Julius Randle\n",
       "422           Domantas Sabonis\n",
       "436              Pascal Siakam\n",
       "459               Jayson Tatum\n",
       "520            Zion Williamson\n",
       "Name: Player, dtype: object"
      ]
     },
     "execution_count": 98,
     "metadata": {},
     "output_type": "execute_result"
    }
   ],
   "source": [
    "correct_as_2023_logregr2 = test_2023.loc[logregr2_as_results_2023.loc[(logregr2_as_results_2023.prediction==1) & (logregr2_as_results_2023['All Star'])].index].Player\n",
    "correct_as_2023_logregr2"
   ]
  },
  {
   "cell_type": "markdown",
   "id": "72813e45-7d8e-482b-80a5-96e2f15e6588",
   "metadata": {},
   "source": [
    "### All Stars That Were Predicted Non-All Stars"
   ]
  },
  {
   "cell_type": "code",
   "execution_count": 99,
   "id": "9de82321-716c-4775-aaf9-5cfbb9f175ac",
   "metadata": {},
   "outputs": [
    {
     "data": {
      "text/plain": [
       "Series([], Name: Player, dtype: object)"
      ]
     },
     "execution_count": 99,
     "metadata": {},
     "output_type": "execute_result"
    }
   ],
   "source": [
    "as_pred_not_2023_logregr2 = test_2023.loc[logregr2_as_results_2023.loc[(logregr2_as_results_2023.prediction==0) & (logregr2_as_results_2023['All Star'])].index].Player\n",
    "as_pred_not_2023_logregr2"
   ]
  },
  {
   "cell_type": "code",
   "execution_count": 100,
   "id": "3d4a6cd0-b444-4798-8c37-5f6226b548b6",
   "metadata": {},
   "outputs": [
    {
     "data": {
      "text/plain": [
       "0.0"
      ]
     },
     "execution_count": 100,
     "metadata": {},
     "output_type": "execute_result"
    }
   ],
   "source": [
    "as_pred_not_2023_logregr2.shape[0] / num_all_stars_2023"
   ]
  },
  {
   "cell_type": "markdown",
   "id": "8d630f52-de13-4672-9811-337c1ccaaeac",
   "metadata": {},
   "source": [
    "### Players That Were Predicted to be All Stars But Weren't"
   ]
  },
  {
   "cell_type": "code",
   "execution_count": 101,
   "id": "2adb5dd7-e03c-4389-a466-c2369a211521",
   "metadata": {},
   "outputs": [
    {
     "data": {
      "text/plain": [
       "7          Jarrett Allen\n",
       "13            OG Anunoby\n",
       "16         Deandre Ayton\n",
       "20           LaMelo Ball\n",
       "22        Paolo Banchero\n",
       "             ...        \n",
       "480        Devin Vassell\n",
       "483       Nikola Vučević\n",
       "501    Russell Westbrook\n",
       "525       Christian Wood\n",
       "529           Trae Young\n",
       "Name: Player, Length: 62, dtype: object"
      ]
     },
     "execution_count": 101,
     "metadata": {},
     "output_type": "execute_result"
    }
   ],
   "source": [
    "not_as_pred_as_2023_logregr2 = test_2023.loc[logregr2_as_results_2023.loc[(logregr2_as_results_2023.prediction==1) & ~(logregr2_as_results_2023['All Star'])].index].Player\n",
    "not_as_pred_as_2023_logregr2"
   ]
  },
  {
   "cell_type": "markdown",
   "id": "f97eba0e-4690-4145-8834-8be325a6acf7",
   "metadata": {},
   "source": [
    "# Summary"
   ]
  },
  {
   "cell_type": "code",
   "execution_count": 102,
   "id": "ab0fa27a-3d64-4325-8aaf-61a7ecccc8c9",
   "metadata": {},
   "outputs": [],
   "source": [
    "as_2019_logregr2 = test_players.loc[test_players['All Star']][['Player', 'Pos', 'TS%', 'RPG', 'APG', 'PPG', 'BPG', 'SPG','All Star','Year']]\n",
    "def rating_col(player):\n",
    "    if player in correct_as_2019_logreg2.values:\n",
    "        return 'properly rated'\n",
    "    elif player in as_pred_not_2019_logregr2.values:\n",
    "        return 'overrated'\n",
    "as_2019_logregr2['Rating'] = as_2019_logregr2.Player.apply(rating_col)\n",
    "as_summary_2019_logregr2 = as_2019_logregr2[['Player', 'Rating', 'Year']]\n",
    "as_other_2019_logregr2 = not_as_pred_as_2019_logregr.to_frame(name = 'Player')\n",
    "as_other_2019_logregr2['Rating'] = 'underrated'\n",
    "as_other_2019_logregr2['Year'] = 2019\n",
    "as_summary_2019_logregr2 = pd.concat([as_other_2019_logregr2, as_summary_2019_logregr2]).sort_values('Rating')"
   ]
  },
  {
   "cell_type": "code",
   "execution_count": 103,
   "id": "05d7c657-eb38-404c-be4b-25f36dd440f5",
   "metadata": {},
   "outputs": [],
   "source": [
    "as_2021_logregr2 = test_2021.loc[test_2021['All Star']][['Player', 'Pos', 'TS%', 'RPG', 'APG', 'PPG', 'BPG', 'SPG','All Star','Year']]\n",
    "def rating_col(player):\n",
    "    if player in correct_as_2021_logregr2.values:\n",
    "        return 'properly rated'\n",
    "    elif player in as_pred_not_2021_logregr2.values:\n",
    "        return 'overrated'\n",
    "as_2021_logregr2['Rating'] = as_2021_logregr2.Player.apply(rating_col)\n",
    "as_summary_2021_logregr2 = as_2021_logregr2[['Player', 'Rating', 'Year']]\n",
    "as_other_2021_logregr2 = not_as_pred_as_2021_logregr2.to_frame(name = 'Player')\n",
    "as_other_2021_logregr2['Rating'] = 'underrated'\n",
    "as_other_2021_logregr2['Year'] = 2021\n",
    "as_summary_2021_logregr2 = pd.concat([as_other_2021_logregr2, as_summary_2021_logregr2]).sort_values('Rating')"
   ]
  },
  {
   "cell_type": "code",
   "execution_count": 104,
   "id": "af89c0b4-9a00-4ae7-a7a1-31661de53719",
   "metadata": {},
   "outputs": [],
   "source": [
    "as_2022_logregr2 = test_2022.loc[test_2022['All Star']][['Player', 'Pos', 'Age', 'TS%', 'RPG', 'APG', 'PPG', 'BPG', 'SPG','All Star','Year']]\n",
    "def rating_col(player):\n",
    "    if player in correct_as_2022_logregr2.values:\n",
    "        return 'properly rated'\n",
    "    elif player in as_pred_not_2022_logregr2.values:\n",
    "        return 'overrated'\n",
    "as_2022_logregr2['Rating'] = as_2022_logregr2.Player.apply(rating_col)\n",
    "as_summary_2022_logregr2 = as_2022_logregr2[['Player', 'Rating', 'Year']]\n",
    "as_other_2022_logregr2 = not_as_pred_as_2022_logregr2.to_frame(name = 'Player')\n",
    "as_other_2022_logregr2['Rating'] = 'underrated'\n",
    "as_other_2022_logregr2['Year'] = 2022\n",
    "as_summary_2022_logregr2 = pd.concat([as_other_2022_logregr2, as_summary_2022_logregr2]).sort_values('Rating')"
   ]
  },
  {
   "cell_type": "code",
   "execution_count": 105,
   "id": "a714a85b-196b-4a77-86c4-f96a0550aada",
   "metadata": {},
   "outputs": [],
   "source": [
    "as_2023_logregr2 = test_2023.loc[test_2023['All Star']][['Player', 'Pos', 'Age', 'TS%', 'RPG', 'APG', 'PPG', 'BPG', 'SPG','All Star','Year']]\n",
    "def rating_col(player):\n",
    "    if player in correct_as_2023_logregr2.values:\n",
    "        return 'properly rated'\n",
    "    elif player in as_pred_not_2023_logregr2.values:\n",
    "        return 'overrated'\n",
    "as_2023_logregr2['Rating'] = as_2023_logregr2.Player.apply(rating_col)\n",
    "as_summary_2023_logregr2 = as_2023_logregr2[['Player', 'Rating', 'Year']]\n",
    "as_other_2023_logregr2 = not_as_pred_as_2023_logregr2.to_frame(name = 'Player')\n",
    "as_other_2023_logregr2['Rating'] = 'underrated'\n",
    "as_other_2023_logregr2['Year'] = 2022\n",
    "as_summary_2023_logregr2 = pd.concat([as_other_2023_logregr2, as_summary_2023_logregr2]).sort_values('Rating')"
   ]
  },
  {
   "cell_type": "code",
   "execution_count": 106,
   "id": "2d7f2baa-3852-4ae6-b861-6370c38644da",
   "metadata": {},
   "outputs": [
    {
     "name": "stdout",
     "output_type": "stream",
     "text": [
      "Giannis Antetokounmpo\n",
      "Joel Embiid\n",
      "Kevin Durant\n",
      "LeBron James\n",
      "Nikola Jokić\n",
      "Stephen Curry\n"
     ]
    },
    {
     "data": {
      "text/plain": [
       "[None, None, None, None, None, None]"
      ]
     },
     "execution_count": 106,
     "metadata": {},
     "output_type": "execute_result"
    }
   ],
   "source": [
    "as_summaries_logregr2 = pd.concat([as_summary_2019_logregr2, as_summary_2021_logregr2, as_summary_2022_logregr2, as_summary_2023_logregr2])\n",
    "as_summaries_logregr2['Year'] = as_summaries_logregr2['Year'].astype(str)\n",
    "as_summaries_grouped_logregr2= as_summaries_logregr2.groupby('Player').agg({'Rating':', '.join, 'Year':', '.join}).reset_index()\n",
    "[print(n) for n in as_summaries_grouped_logregr2.loc[as_summaries_grouped_logregr2.Rating == 'properly rated, properly rated, properly rated, properly rated'].Player.values]"
   ]
  },
  {
   "cell_type": "code",
   "execution_count": 107,
   "id": "1f9418ca-df3a-4d65-98ae-b4975da31838",
   "metadata": {},
   "outputs": [
    {
     "data": {
      "text/html": [
       "<div>\n",
       "<style scoped>\n",
       "    .dataframe tbody tr th:only-of-type {\n",
       "        vertical-align: middle;\n",
       "    }\n",
       "\n",
       "    .dataframe tbody tr th {\n",
       "        vertical-align: top;\n",
       "    }\n",
       "\n",
       "    .dataframe thead th {\n",
       "        text-align: right;\n",
       "    }\n",
       "</style>\n",
       "<table border=\"1\" class=\"dataframe\">\n",
       "  <thead>\n",
       "    <tr style=\"text-align: right;\">\n",
       "      <th></th>\n",
       "      <th>Player</th>\n",
       "      <th>Rating</th>\n",
       "      <th>Year</th>\n",
       "    </tr>\n",
       "  </thead>\n",
       "  <tbody>\n",
       "    <tr>\n",
       "      <th>23</th>\n",
       "      <td>Damian Lillard</td>\n",
       "      <td>properly rated, properly rated, underrated, pr...</td>\n",
       "      <td>2019, 2021, 2022, 2023</td>\n",
       "    </tr>\n",
       "    <tr>\n",
       "      <th>26</th>\n",
       "      <td>DeMar DeRozan</td>\n",
       "      <td>underrated, underrated, properly rated, proper...</td>\n",
       "      <td>2019, 2021, 2022, 2023</td>\n",
       "    </tr>\n",
       "    <tr>\n",
       "      <th>34</th>\n",
       "      <td>Donovan Mitchell</td>\n",
       "      <td>underrated, properly rated, properly rated, pr...</td>\n",
       "      <td>2019, 2021, 2022, 2023</td>\n",
       "    </tr>\n",
       "    <tr>\n",
       "      <th>63</th>\n",
       "      <td>Jrue Holiday</td>\n",
       "      <td>underrated, underrated, underrated, properly r...</td>\n",
       "      <td>2019, 2021, 2022, 2023</td>\n",
       "    </tr>\n",
       "    <tr>\n",
       "      <th>64</th>\n",
       "      <td>Julius Randle</td>\n",
       "      <td>underrated, properly rated, underrated, proper...</td>\n",
       "      <td>2019, 2021, 2022, 2023</td>\n",
       "    </tr>\n",
       "    <tr>\n",
       "      <th>78</th>\n",
       "      <td>Kyrie Irving</td>\n",
       "      <td>properly rated, properly rated, underrated, pr...</td>\n",
       "      <td>2019, 2021, 2022, 2023</td>\n",
       "    </tr>\n",
       "    <tr>\n",
       "      <th>84</th>\n",
       "      <td>Luka Dončić</td>\n",
       "      <td>underrated, properly rated, properly rated, pr...</td>\n",
       "      <td>2019, 2021, 2022, 2023</td>\n",
       "    </tr>\n",
       "    <tr>\n",
       "      <th>99</th>\n",
       "      <td>Paul George</td>\n",
       "      <td>properly rated, properly rated, underrated, pr...</td>\n",
       "      <td>2019, 2021, 2022, 2023</td>\n",
       "    </tr>\n",
       "  </tbody>\n",
       "</table>\n",
       "</div>"
      ],
      "text/plain": [
       "              Player                                             Rating  \\\n",
       "23    Damian Lillard  properly rated, properly rated, underrated, pr...   \n",
       "26     DeMar DeRozan  underrated, underrated, properly rated, proper...   \n",
       "34  Donovan Mitchell  underrated, properly rated, properly rated, pr...   \n",
       "63      Jrue Holiday  underrated, underrated, underrated, properly r...   \n",
       "64     Julius Randle  underrated, properly rated, underrated, proper...   \n",
       "78      Kyrie Irving  properly rated, properly rated, underrated, pr...   \n",
       "84       Luka Dončić  underrated, properly rated, properly rated, pr...   \n",
       "99       Paul George  properly rated, properly rated, underrated, pr...   \n",
       "\n",
       "                      Year  \n",
       "23  2019, 2021, 2022, 2023  \n",
       "26  2019, 2021, 2022, 2023  \n",
       "34  2019, 2021, 2022, 2023  \n",
       "63  2019, 2021, 2022, 2023  \n",
       "64  2019, 2021, 2022, 2023  \n",
       "78  2019, 2021, 2022, 2023  \n",
       "84  2019, 2021, 2022, 2023  \n",
       "99  2019, 2021, 2022, 2023  "
      ]
     },
     "execution_count": 107,
     "metadata": {},
     "output_type": "execute_result"
    }
   ],
   "source": [
    "as_summaries_grouped_logregr2.loc[(as_summaries_grouped_logregr2.Year == '2019, 2021, 2022, 2023') & ~(as_summaries_grouped_logregr2.Rating == 'properly rated, properly rated, properly rated, properly rated')]\n"
   ]
  },
  {
   "cell_type": "code",
   "execution_count": 108,
   "id": "3bd88e68-c702-4d84-a272-5799616ad8d7",
   "metadata": {},
   "outputs": [
    {
     "data": {
      "text/html": [
       "<div>\n",
       "<style scoped>\n",
       "    .dataframe tbody tr th:only-of-type {\n",
       "        vertical-align: middle;\n",
       "    }\n",
       "\n",
       "    .dataframe tbody tr th {\n",
       "        vertical-align: top;\n",
       "    }\n",
       "\n",
       "    .dataframe thead th {\n",
       "        text-align: right;\n",
       "    }\n",
       "</style>\n",
       "<table border=\"1\" class=\"dataframe\">\n",
       "  <thead>\n",
       "    <tr style=\"text-align: right;\">\n",
       "      <th></th>\n",
       "      <th>Player</th>\n",
       "      <th>Rating</th>\n",
       "      <th>Year</th>\n",
       "    </tr>\n",
       "  </thead>\n",
       "  <tbody>\n",
       "    <tr>\n",
       "      <th>0</th>\n",
       "      <td>Aaron Gordon</td>\n",
       "      <td>underrated</td>\n",
       "      <td>2022</td>\n",
       "    </tr>\n",
       "    <tr>\n",
       "      <th>1</th>\n",
       "      <td>Alperen Şengün</td>\n",
       "      <td>underrated</td>\n",
       "      <td>2022</td>\n",
       "    </tr>\n",
       "    <tr>\n",
       "      <th>2</th>\n",
       "      <td>Andre Drummond</td>\n",
       "      <td>underrated, underrated</td>\n",
       "      <td>2019, 2021</td>\n",
       "    </tr>\n",
       "    <tr>\n",
       "      <th>4</th>\n",
       "      <td>Anfernee Simons</td>\n",
       "      <td>underrated</td>\n",
       "      <td>2022</td>\n",
       "    </tr>\n",
       "    <tr>\n",
       "      <th>10</th>\n",
       "      <td>Bojan Bogdanović</td>\n",
       "      <td>underrated</td>\n",
       "      <td>2022</td>\n",
       "    </tr>\n",
       "    <tr>\n",
       "      <th>...</th>\n",
       "      <td>...</td>\n",
       "      <td>...</td>\n",
       "      <td>...</td>\n",
       "    </tr>\n",
       "    <tr>\n",
       "      <th>110</th>\n",
       "      <td>Tobias Harris</td>\n",
       "      <td>underrated, underrated</td>\n",
       "      <td>2021, 2022</td>\n",
       "    </tr>\n",
       "    <tr>\n",
       "      <th>112</th>\n",
       "      <td>Tyler Herro</td>\n",
       "      <td>underrated, underrated, underrated</td>\n",
       "      <td>2021, 2022, 2022</td>\n",
       "    </tr>\n",
       "    <tr>\n",
       "      <th>114</th>\n",
       "      <td>Tyrese Maxey</td>\n",
       "      <td>underrated, underrated</td>\n",
       "      <td>2022, 2022</td>\n",
       "    </tr>\n",
       "    <tr>\n",
       "      <th>116</th>\n",
       "      <td>Wendell Carter Jr.</td>\n",
       "      <td>underrated, underrated</td>\n",
       "      <td>2022, 2022</td>\n",
       "    </tr>\n",
       "    <tr>\n",
       "      <th>118</th>\n",
       "      <td>Zavier Simpson</td>\n",
       "      <td>underrated</td>\n",
       "      <td>2022</td>\n",
       "    </tr>\n",
       "  </tbody>\n",
       "</table>\n",
       "<p>62 rows × 3 columns</p>\n",
       "</div>"
      ],
      "text/plain": [
       "                 Player                              Rating              Year\n",
       "0          Aaron Gordon                          underrated              2022\n",
       "1        Alperen Şengün                          underrated              2022\n",
       "2        Andre Drummond              underrated, underrated        2019, 2021\n",
       "4       Anfernee Simons                          underrated              2022\n",
       "10     Bojan Bogdanović                          underrated              2022\n",
       "..                  ...                                 ...               ...\n",
       "110       Tobias Harris              underrated, underrated        2021, 2022\n",
       "112         Tyler Herro  underrated, underrated, underrated  2021, 2022, 2022\n",
       "114        Tyrese Maxey              underrated, underrated        2022, 2022\n",
       "116  Wendell Carter Jr.              underrated, underrated        2022, 2022\n",
       "118      Zavier Simpson                          underrated              2022\n",
       "\n",
       "[62 rows x 3 columns]"
      ]
     },
     "execution_count": 108,
     "metadata": {},
     "output_type": "execute_result"
    }
   ],
   "source": [
    "as_summaries_grouped_logregr2.loc[as_summaries_grouped_logregr2.Rating.isin(['underrated, underrated', 'underrated, underrated, underrated', 'underrated', 'underrated, underrated, underrated, underrated'])]"
   ]
  },
  {
   "cell_type": "code",
   "execution_count": 109,
   "id": "1d593c6d-465e-43d1-93cc-b2638f137d94",
   "metadata": {},
   "outputs": [
    {
     "data": {
      "text/html": [
       "<div>\n",
       "<style scoped>\n",
       "    .dataframe tbody tr th:only-of-type {\n",
       "        vertical-align: middle;\n",
       "    }\n",
       "\n",
       "    .dataframe tbody tr th {\n",
       "        vertical-align: top;\n",
       "    }\n",
       "\n",
       "    .dataframe thead th {\n",
       "        text-align: right;\n",
       "    }\n",
       "</style>\n",
       "<table border=\"1\" class=\"dataframe\">\n",
       "  <thead>\n",
       "    <tr style=\"text-align: right;\">\n",
       "      <th></th>\n",
       "      <th>Player</th>\n",
       "      <th>Rating</th>\n",
       "      <th>Year</th>\n",
       "    </tr>\n",
       "  </thead>\n",
       "  <tbody>\n",
       "    <tr>\n",
       "      <th>3</th>\n",
       "      <td>Andrew Wiggins</td>\n",
       "      <td>overrated</td>\n",
       "      <td>2022</td>\n",
       "    </tr>\n",
       "    <tr>\n",
       "      <th>32</th>\n",
       "      <td>Dirk Nowitzki</td>\n",
       "      <td>overrated</td>\n",
       "      <td>2019</td>\n",
       "    </tr>\n",
       "    <tr>\n",
       "      <th>35</th>\n",
       "      <td>Draymond Green</td>\n",
       "      <td>overrated</td>\n",
       "      <td>2022</td>\n",
       "    </tr>\n",
       "    <tr>\n",
       "      <th>36</th>\n",
       "      <td>Dwyane Wade</td>\n",
       "      <td>overrated</td>\n",
       "      <td>2019</td>\n",
       "    </tr>\n",
       "  </tbody>\n",
       "</table>\n",
       "</div>"
      ],
      "text/plain": [
       "            Player     Rating  Year\n",
       "3   Andrew Wiggins  overrated  2022\n",
       "32   Dirk Nowitzki  overrated  2019\n",
       "35  Draymond Green  overrated  2022\n",
       "36     Dwyane Wade  overrated  2019"
      ]
     },
     "execution_count": 109,
     "metadata": {},
     "output_type": "execute_result"
    }
   ],
   "source": [
    "as_summaries_grouped_logregr2.loc[as_summaries_grouped_logregr2.Rating.isin(['overrated, overrated', 'overrated, overrated, overrated', 'overrated', 'overrated, overrated, overrated, overrated'])]\n"
   ]
  },
  {
   "cell_type": "code",
   "execution_count": 110,
   "id": "36bf6a72-3673-462e-8503-7d4673555a46",
   "metadata": {},
   "outputs": [
    {
     "data": {
      "text/html": [
       "<div>\n",
       "<style scoped>\n",
       "    .dataframe tbody tr th:only-of-type {\n",
       "        vertical-align: middle;\n",
       "    }\n",
       "\n",
       "    .dataframe tbody tr th {\n",
       "        vertical-align: top;\n",
       "    }\n",
       "\n",
       "    .dataframe thead th {\n",
       "        text-align: right;\n",
       "    }\n",
       "</style>\n",
       "<table border=\"1\" class=\"dataframe\">\n",
       "  <thead>\n",
       "    <tr style=\"text-align: right;\">\n",
       "      <th></th>\n",
       "      <th>Player</th>\n",
       "      <th>Rating</th>\n",
       "      <th>Year</th>\n",
       "    </tr>\n",
       "  </thead>\n",
       "  <tbody>\n",
       "    <tr>\n",
       "      <th>3</th>\n",
       "      <td>Andrew Wiggins</td>\n",
       "      <td>overrated</td>\n",
       "      <td>2022</td>\n",
       "    </tr>\n",
       "    <tr>\n",
       "      <th>32</th>\n",
       "      <td>Dirk Nowitzki</td>\n",
       "      <td>overrated</td>\n",
       "      <td>2019</td>\n",
       "    </tr>\n",
       "    <tr>\n",
       "      <th>35</th>\n",
       "      <td>Draymond Green</td>\n",
       "      <td>overrated</td>\n",
       "      <td>2022</td>\n",
       "    </tr>\n",
       "    <tr>\n",
       "      <th>36</th>\n",
       "      <td>Dwyane Wade</td>\n",
       "      <td>overrated</td>\n",
       "      <td>2019</td>\n",
       "    </tr>\n",
       "    <tr>\n",
       "      <th>73</th>\n",
       "      <td>Khris Middleton</td>\n",
       "      <td>overrated, underrated, properly rated</td>\n",
       "      <td>2019, 2021, 2022</td>\n",
       "    </tr>\n",
       "    <tr>\n",
       "      <th>74</th>\n",
       "      <td>Klay Thompson</td>\n",
       "      <td>overrated, underrated, underrated</td>\n",
       "      <td>2019, 2022, 2022</td>\n",
       "    </tr>\n",
       "  </tbody>\n",
       "</table>\n",
       "</div>"
      ],
      "text/plain": [
       "             Player                                 Rating              Year\n",
       "3    Andrew Wiggins                              overrated              2022\n",
       "32    Dirk Nowitzki                              overrated              2019\n",
       "35   Draymond Green                              overrated              2022\n",
       "36      Dwyane Wade                              overrated              2019\n",
       "73  Khris Middleton  overrated, underrated, properly rated  2019, 2021, 2022\n",
       "74    Klay Thompson      overrated, underrated, underrated  2019, 2022, 2022"
      ]
     },
     "execution_count": 110,
     "metadata": {},
     "output_type": "execute_result"
    }
   ],
   "source": [
    "as_summaries_grouped_logregr2.loc[as_summaries_grouped_logregr2.Rating.str.contains('overrated')]\n"
   ]
  },
  {
   "cell_type": "code",
   "execution_count": 158,
   "id": "cdfd8cc9-8632-4573-8c8a-39e952372e91",
   "metadata": {},
   "outputs": [],
   "source": [
    "summary_df = pd.DataFrame([\n",
    "             ('Logistic Regression','2018-2019', round(metrics.recall_score(y_test_as, test_as_pred_log), 3)),\n",
    "             ('Logistic Regression','2020-2021', round(metrics.recall_score(y_test_as_2021, logregr_as_results_2021['prediction']), 3)),\n",
    "             ('Logistic Regression','2021-2022', round(metrics.recall_score(y_test_as_2022, logregr_as_results_2022['prediction']), 3)),\n",
    "    ('Logistic Regression','2022-2023', round(metrics.recall_score(y_test_as_2023, logregr_as_results_2023['prediction']), 3)),\n",
    "            ('Logistic Regression V2','2018-2019', round(metrics.recall_score(y_test_as2, test_as_pred_logregr2), 3)),\n",
    "             ('Logistic Regression V2','2020-2021', round(metrics.recall_score(y_test_as_2021_2, logregr2_as_results_2021['prediction']), 3)),\n",
    "             ('Logistic Regression V2','2021-2022', round(metrics.recall_score(y_test_as_2022_2, logregr2_as_results_2022['prediction']), 3)),\n",
    "    ('Logistic Regression V2','2022-2023', round(metrics.recall_score(y_test_as_2023_2, logregr2_as_results_2023['prediction']), 3))], \n",
    "             \n",
    "             columns = ['Classifier', 'Season', 'Recall Score'])\n",
    " "
   ]
  },
  {
   "cell_type": "code",
   "execution_count": 159,
   "id": "4dd8dde6-bb60-4090-94c8-af93588d6894",
   "metadata": {},
   "outputs": [
    {
     "data": {
      "text/html": [
       "<div>\n",
       "<style scoped>\n",
       "    .dataframe tbody tr th:only-of-type {\n",
       "        vertical-align: middle;\n",
       "    }\n",
       "\n",
       "    .dataframe tbody tr th {\n",
       "        vertical-align: top;\n",
       "    }\n",
       "\n",
       "    .dataframe thead th {\n",
       "        text-align: right;\n",
       "    }\n",
       "</style>\n",
       "<table border=\"1\" class=\"dataframe\">\n",
       "  <thead>\n",
       "    <tr style=\"text-align: right;\">\n",
       "      <th></th>\n",
       "      <th>Classifier</th>\n",
       "      <th>Season</th>\n",
       "      <th>Recall Score</th>\n",
       "    </tr>\n",
       "  </thead>\n",
       "  <tbody>\n",
       "    <tr>\n",
       "      <th>3</th>\n",
       "      <td>Logistic Regression</td>\n",
       "      <td>2022-2023</td>\n",
       "      <td>1.000</td>\n",
       "    </tr>\n",
       "    <tr>\n",
       "      <th>5</th>\n",
       "      <td>Logistic Regression V2</td>\n",
       "      <td>2020-2021</td>\n",
       "      <td>1.000</td>\n",
       "    </tr>\n",
       "    <tr>\n",
       "      <th>7</th>\n",
       "      <td>Logistic Regression V2</td>\n",
       "      <td>2022-2023</td>\n",
       "      <td>1.000</td>\n",
       "    </tr>\n",
       "    <tr>\n",
       "      <th>1</th>\n",
       "      <td>Logistic Regression</td>\n",
       "      <td>2020-2021</td>\n",
       "      <td>0.963</td>\n",
       "    </tr>\n",
       "    <tr>\n",
       "      <th>6</th>\n",
       "      <td>Logistic Regression V2</td>\n",
       "      <td>2021-2022</td>\n",
       "      <td>0.926</td>\n",
       "    </tr>\n",
       "    <tr>\n",
       "      <th>2</th>\n",
       "      <td>Logistic Regression</td>\n",
       "      <td>2021-2022</td>\n",
       "      <td>0.889</td>\n",
       "    </tr>\n",
       "    <tr>\n",
       "      <th>4</th>\n",
       "      <td>Logistic Regression V2</td>\n",
       "      <td>2018-2019</td>\n",
       "      <td>0.846</td>\n",
       "    </tr>\n",
       "    <tr>\n",
       "      <th>0</th>\n",
       "      <td>Logistic Regression</td>\n",
       "      <td>2018-2019</td>\n",
       "      <td>0.769</td>\n",
       "    </tr>\n",
       "  </tbody>\n",
       "</table>\n",
       "</div>"
      ],
      "text/plain": [
       "               Classifier     Season  Recall Score\n",
       "3     Logistic Regression  2022-2023         1.000\n",
       "5  Logistic Regression V2  2020-2021         1.000\n",
       "7  Logistic Regression V2  2022-2023         1.000\n",
       "1     Logistic Regression  2020-2021         0.963\n",
       "6  Logistic Regression V2  2021-2022         0.926\n",
       "2     Logistic Regression  2021-2022         0.889\n",
       "4  Logistic Regression V2  2018-2019         0.846\n",
       "0     Logistic Regression  2018-2019         0.769"
      ]
     },
     "execution_count": 159,
     "metadata": {},
     "output_type": "execute_result"
    }
   ],
   "source": [
    "summary_df.sort_values('Recall Score', ascending=False)"
   ]
  },
  {
   "cell_type": "code",
   "execution_count": 303,
   "id": "6b337f62-829c-48e9-8759-0375be9120c0",
   "metadata": {},
   "outputs": [
    {
     "data": {
      "text/plain": [
       "0.731"
      ]
     },
     "execution_count": 303,
     "metadata": {},
     "output_type": "execute_result"
    }
   ],
   "source": [
    "results_df['Percent Right'].iloc[0]"
   ]
  },
  {
   "cell_type": "code",
   "execution_count": 304,
   "id": "b1e230f7-557d-408d-b1a7-6e4e830f8b93",
   "metadata": {},
   "outputs": [],
   "source": [
    "summary_df = pd.DataFrame([\n",
    "             ('Logistic Regression','2018-2019', round(metrics.recall_score(y_test_as, test_as_pred_log), 3), \n",
    "                  round(metrics.precision_score(y_test_as, test_as_pred_log), 3), \n",
    "                  round(metrics.accuracy_score(y_test_as, test_as_pred_log), 3),\n",
    "                  results_df['Percent Right'].iloc[0]\n",
    "             ),\n",
    "             ('Logistic Regression','2020-2021', round(metrics.recall_score(y_test_as_2021, logregr_as_results_2021['prediction']), 3), \n",
    "                 round(metrics.precision_score(y_test_as_2021, logregr_as_results_2021['prediction']), 3), \n",
    "                 round(metrics.accuracy_score(y_test_as_2021, logregr_as_results_2021['prediction']), 3),\n",
    "                  results_df_2021['Percent Right'].iloc[0]\n",
    "             ),\n",
    "             ('Logistic Regression','2021-2022', round(metrics.recall_score(y_test_as_2022, logregr_as_results_2022['prediction']), 3),\n",
    "                 round(metrics.precision_score(y_test_as_2022, logregr_as_results_2022['prediction']), 3),\n",
    "                  round(metrics.accuracy_score(y_test_as_2022, logregr_as_results_2022['prediction']), 3),\n",
    "                  results_df_2022['Percent Right'].iloc[0]\n",
    "             ),\n",
    "    ('Logistic Regression','2022-2023', round(metrics.recall_score(y_test_as_2023, logregr_as_results_2023['prediction']), 3), \n",
    "        round(metrics.precision_score(y_test_as_2023, logregr_as_results_2023['prediction']), 3),\n",
    "         round(metrics.accuracy_score(y_test_as_2023, logregr_as_results_2023['prediction']), 3),\n",
    "         results_df_2023['Percent Right'].iloc[0]\n",
    "    ),\n",
    "            ('Logistic Regression V2','2018-2019', round(metrics.recall_score(y_test_as2, test_as_pred_logregr2), 3),\n",
    "                round(metrics.precision_score(y_test_as2, test_as_pred_logregr2), 3),\n",
    "                 round(metrics.accuracy_score(y_test_as2, test_as_pred_logregr2), 3),\n",
    "             results_df_2['Percent Right'].iloc[0]\n",
    "            ),\n",
    "             ('Logistic Regression V2','2020-2021', round(metrics.recall_score(y_test_as_2021_2, logregr2_as_results_2021['prediction']), 3),\n",
    "                 round(metrics.precision_score(y_test_as_2021_2, logregr2_as_results_2021['prediction']), 3),\n",
    "              round(metrics.accuracy_score(y_test_as_2021_2, logregr2_as_results_2021['prediction']), 3),\n",
    "              results_df_2021_2['Percent Right'].iloc[0]\n",
    "             ),\n",
    "             ('Logistic Regression V2','2021-2022', round(metrics.recall_score(y_test_as_2022_2, logregr2_as_results_2022['prediction']), 3),\n",
    "                 round(metrics.precision_score(y_test_as_2022_2, logregr2_as_results_2022['prediction']), 3),\n",
    "              round(metrics.accuracy_score(y_test_as_2022_2, logregr2_as_results_2022['prediction']), 3),\n",
    "              results_df_2022_2['Percent Right'].iloc[0]\n",
    "             ),\n",
    "    ('Logistic Regression V2','2022-2023', round(metrics.recall_score(y_test_as_2023_2, logregr2_as_results_2023['prediction']), 3),\n",
    "        round(metrics.precision_score(y_test_as_2023_2, logregr2_as_results_2023['prediction']), 3),\n",
    "     round(metrics.accuracy_score(y_test_as_2023_2, logregr2_as_results_2023['prediction']), 3),\n",
    "     results_df_2023_2['Percent Right'].iloc[0]\n",
    "    )], \n",
    "             \n",
    "             columns = ['Classifier', 'Season', 'Recall Score', 'Precision Score', 'Accuracy', 'Top Players % Correct'])\n",
    " "
   ]
  },
  {
   "cell_type": "code",
   "execution_count": 305,
   "id": "f622cd63-3bca-42a8-b9af-90ececcd4566",
   "metadata": {},
   "outputs": [
    {
     "data": {
      "text/html": [
       "<div>\n",
       "<style scoped>\n",
       "    .dataframe tbody tr th:only-of-type {\n",
       "        vertical-align: middle;\n",
       "    }\n",
       "\n",
       "    .dataframe tbody tr th {\n",
       "        vertical-align: top;\n",
       "    }\n",
       "\n",
       "    .dataframe thead th {\n",
       "        text-align: right;\n",
       "    }\n",
       "</style>\n",
       "<table border=\"1\" class=\"dataframe\">\n",
       "  <thead>\n",
       "    <tr style=\"text-align: right;\">\n",
       "      <th></th>\n",
       "      <th>Classifier</th>\n",
       "      <th>Season</th>\n",
       "      <th>Recall Score</th>\n",
       "      <th>Precision Score</th>\n",
       "      <th>Accuracy</th>\n",
       "      <th>Top Players % Correct</th>\n",
       "    </tr>\n",
       "  </thead>\n",
       "  <tbody>\n",
       "    <tr>\n",
       "      <th>2</th>\n",
       "      <td>Logistic Regression</td>\n",
       "      <td>2021-2022</td>\n",
       "      <td>0.889</td>\n",
       "      <td>0.600</td>\n",
       "      <td>0.969</td>\n",
       "      <td>0.741</td>\n",
       "    </tr>\n",
       "    <tr>\n",
       "      <th>3</th>\n",
       "      <td>Logistic Regression</td>\n",
       "      <td>2022-2023</td>\n",
       "      <td>1.000</td>\n",
       "      <td>0.574</td>\n",
       "      <td>0.962</td>\n",
       "      <td>0.778</td>\n",
       "    </tr>\n",
       "    <tr>\n",
       "      <th>0</th>\n",
       "      <td>Logistic Regression</td>\n",
       "      <td>2018-2019</td>\n",
       "      <td>0.769</td>\n",
       "      <td>0.571</td>\n",
       "      <td>0.960</td>\n",
       "      <td>0.731</td>\n",
       "    </tr>\n",
       "    <tr>\n",
       "      <th>1</th>\n",
       "      <td>Logistic Regression</td>\n",
       "      <td>2020-2021</td>\n",
       "      <td>0.963</td>\n",
       "      <td>0.553</td>\n",
       "      <td>0.955</td>\n",
       "      <td>0.741</td>\n",
       "    </tr>\n",
       "    <tr>\n",
       "      <th>4</th>\n",
       "      <td>Logistic Regression V2</td>\n",
       "      <td>2018-2019</td>\n",
       "      <td>0.846</td>\n",
       "      <td>0.524</td>\n",
       "      <td>0.954</td>\n",
       "      <td>0.731</td>\n",
       "    </tr>\n",
       "    <tr>\n",
       "      <th>5</th>\n",
       "      <td>Logistic Regression V2</td>\n",
       "      <td>2020-2021</td>\n",
       "      <td>1.000</td>\n",
       "      <td>0.397</td>\n",
       "      <td>0.916</td>\n",
       "      <td>0.741</td>\n",
       "    </tr>\n",
       "    <tr>\n",
       "      <th>6</th>\n",
       "      <td>Logistic Regression V2</td>\n",
       "      <td>2021-2022</td>\n",
       "      <td>0.926</td>\n",
       "      <td>0.309</td>\n",
       "      <td>0.904</td>\n",
       "      <td>0.704</td>\n",
       "    </tr>\n",
       "    <tr>\n",
       "      <th>7</th>\n",
       "      <td>Logistic Regression V2</td>\n",
       "      <td>2022-2023</td>\n",
       "      <td>1.000</td>\n",
       "      <td>0.303</td>\n",
       "      <td>0.884</td>\n",
       "      <td>0.778</td>\n",
       "    </tr>\n",
       "  </tbody>\n",
       "</table>\n",
       "</div>"
      ],
      "text/plain": [
       "               Classifier     Season  Recall Score  Precision Score  Accuracy  \\\n",
       "2     Logistic Regression  2021-2022         0.889            0.600     0.969   \n",
       "3     Logistic Regression  2022-2023         1.000            0.574     0.962   \n",
       "0     Logistic Regression  2018-2019         0.769            0.571     0.960   \n",
       "1     Logistic Regression  2020-2021         0.963            0.553     0.955   \n",
       "4  Logistic Regression V2  2018-2019         0.846            0.524     0.954   \n",
       "5  Logistic Regression V2  2020-2021         1.000            0.397     0.916   \n",
       "6  Logistic Regression V2  2021-2022         0.926            0.309     0.904   \n",
       "7  Logistic Regression V2  2022-2023         1.000            0.303     0.884   \n",
       "\n",
       "   Top Players % Correct  \n",
       "2                  0.741  \n",
       "3                  0.778  \n",
       "0                  0.731  \n",
       "1                  0.741  \n",
       "4                  0.731  \n",
       "5                  0.741  \n",
       "6                  0.704  \n",
       "7                  0.778  "
      ]
     },
     "execution_count": 305,
     "metadata": {},
     "output_type": "execute_result"
    }
   ],
   "source": [
    "summary_df.sort_values(['Precision Score', 'Recall Score', 'Accuracy'], ascending=False)"
   ]
  },
  {
   "cell_type": "code",
   "execution_count": 307,
   "id": "2d1bfff0-640a-4289-bd84-4d4224e41502",
   "metadata": {},
   "outputs": [
    {
     "data": {
      "text/html": [
       "<div>\n",
       "<style scoped>\n",
       "    .dataframe tbody tr th:only-of-type {\n",
       "        vertical-align: middle;\n",
       "    }\n",
       "\n",
       "    .dataframe tbody tr th {\n",
       "        vertical-align: top;\n",
       "    }\n",
       "\n",
       "    .dataframe thead th {\n",
       "        text-align: right;\n",
       "    }\n",
       "</style>\n",
       "<table border=\"1\" class=\"dataframe\">\n",
       "  <thead>\n",
       "    <tr style=\"text-align: right;\">\n",
       "      <th></th>\n",
       "      <th>Classifier</th>\n",
       "      <th>Season</th>\n",
       "      <th>Recall Score</th>\n",
       "      <th>Precision Score</th>\n",
       "      <th>Accuracy</th>\n",
       "      <th>Top Players % Correct</th>\n",
       "    </tr>\n",
       "  </thead>\n",
       "  <tbody>\n",
       "    <tr>\n",
       "      <th>3</th>\n",
       "      <td>Logistic Regression</td>\n",
       "      <td>2022-2023</td>\n",
       "      <td>1.000</td>\n",
       "      <td>0.574</td>\n",
       "      <td>0.962</td>\n",
       "      <td>0.778</td>\n",
       "    </tr>\n",
       "    <tr>\n",
       "      <th>7</th>\n",
       "      <td>Logistic Regression V2</td>\n",
       "      <td>2022-2023</td>\n",
       "      <td>1.000</td>\n",
       "      <td>0.303</td>\n",
       "      <td>0.884</td>\n",
       "      <td>0.778</td>\n",
       "    </tr>\n",
       "    <tr>\n",
       "      <th>2</th>\n",
       "      <td>Logistic Regression</td>\n",
       "      <td>2021-2022</td>\n",
       "      <td>0.889</td>\n",
       "      <td>0.600</td>\n",
       "      <td>0.969</td>\n",
       "      <td>0.741</td>\n",
       "    </tr>\n",
       "    <tr>\n",
       "      <th>1</th>\n",
       "      <td>Logistic Regression</td>\n",
       "      <td>2020-2021</td>\n",
       "      <td>0.963</td>\n",
       "      <td>0.553</td>\n",
       "      <td>0.955</td>\n",
       "      <td>0.741</td>\n",
       "    </tr>\n",
       "    <tr>\n",
       "      <th>5</th>\n",
       "      <td>Logistic Regression V2</td>\n",
       "      <td>2020-2021</td>\n",
       "      <td>1.000</td>\n",
       "      <td>0.397</td>\n",
       "      <td>0.916</td>\n",
       "      <td>0.741</td>\n",
       "    </tr>\n",
       "    <tr>\n",
       "      <th>0</th>\n",
       "      <td>Logistic Regression</td>\n",
       "      <td>2018-2019</td>\n",
       "      <td>0.769</td>\n",
       "      <td>0.571</td>\n",
       "      <td>0.960</td>\n",
       "      <td>0.731</td>\n",
       "    </tr>\n",
       "    <tr>\n",
       "      <th>4</th>\n",
       "      <td>Logistic Regression V2</td>\n",
       "      <td>2018-2019</td>\n",
       "      <td>0.846</td>\n",
       "      <td>0.524</td>\n",
       "      <td>0.954</td>\n",
       "      <td>0.731</td>\n",
       "    </tr>\n",
       "    <tr>\n",
       "      <th>6</th>\n",
       "      <td>Logistic Regression V2</td>\n",
       "      <td>2021-2022</td>\n",
       "      <td>0.926</td>\n",
       "      <td>0.309</td>\n",
       "      <td>0.904</td>\n",
       "      <td>0.704</td>\n",
       "    </tr>\n",
       "  </tbody>\n",
       "</table>\n",
       "</div>"
      ],
      "text/plain": [
       "               Classifier     Season  Recall Score  Precision Score  Accuracy  \\\n",
       "3     Logistic Regression  2022-2023         1.000            0.574     0.962   \n",
       "7  Logistic Regression V2  2022-2023         1.000            0.303     0.884   \n",
       "2     Logistic Regression  2021-2022         0.889            0.600     0.969   \n",
       "1     Logistic Regression  2020-2021         0.963            0.553     0.955   \n",
       "5  Logistic Regression V2  2020-2021         1.000            0.397     0.916   \n",
       "0     Logistic Regression  2018-2019         0.769            0.571     0.960   \n",
       "4  Logistic Regression V2  2018-2019         0.846            0.524     0.954   \n",
       "6  Logistic Regression V2  2021-2022         0.926            0.309     0.904   \n",
       "\n",
       "   Top Players % Correct  \n",
       "3                  0.778  \n",
       "7                  0.778  \n",
       "2                  0.741  \n",
       "1                  0.741  \n",
       "5                  0.741  \n",
       "0                  0.731  \n",
       "4                  0.731  \n",
       "6                  0.704  "
      ]
     },
     "execution_count": 307,
     "metadata": {},
     "output_type": "execute_result"
    }
   ],
   "source": [
    "summary_df.sort_values(['Top Players % Correct', 'Precision Score'], ascending=False)"
   ]
  },
  {
   "cell_type": "code",
   "execution_count": null,
   "id": "bcb47eb2-acaa-4d93-a5e2-82c926b985ae",
   "metadata": {},
   "outputs": [],
   "source": []
  }
 ],
 "metadata": {
  "kernelspec": {
   "display_name": "Python 3",
   "language": "python",
   "name": "python3"
  },
  "language_info": {
   "codemirror_mode": {
    "name": "ipython",
    "version": 3
   },
   "file_extension": ".py",
   "mimetype": "text/x-python",
   "name": "python",
   "nbconvert_exporter": "python",
   "pygments_lexer": "ipython3",
   "version": "3.8.8"
  }
 },
 "nbformat": 4,
 "nbformat_minor": 5
}
